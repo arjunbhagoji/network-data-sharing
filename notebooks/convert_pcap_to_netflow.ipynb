{
 "cells": [
  {
   "cell_type": "code",
   "execution_count": 1,
   "metadata": {},
   "outputs": [],
   "source": [
    "import sys, os, glob"
   ]
  },
  {
   "cell_type": "code",
   "execution_count": 7,
   "metadata": {},
   "outputs": [
    {
     "name": "stdout",
     "output_type": "stream",
     "text": [
      "../data/benign_attack/18-06-02.pcap\n",
      "../data/benign_attack/18-10-27.pcap\n",
      "../data/benign_attack/18-10-26.pcap\n",
      "../data/benign_attack/18-06-03.pcap\n",
      "../data/benign_attack/18-10-21.pcap\n",
      "../data/benign_attack/18-06-08.pcap\n",
      "../data/benign_attack/18-06-04.pcap\n",
      "../data/benign_attack/18-06-05.pcap\n",
      "../data/benign_attack/18-10-20.pcap\n",
      "../data/benign_attack/18-10-23.pcap\n",
      "../data/benign_attack/18-06-06.pcap\n",
      "../data/benign_attack/18-06-07.pcap\n",
      "../data/benign_attack/18-10-22.pcap\n",
      "../data/benign_attack/18-06-20.pcap\n",
      "../data/benign_attack/18-10-25.pcap\n",
      "../data/benign_attack/18-10-24.pcap\n",
      "../data/benign_attack/18-06-01.pcap\n"
     ]
    }
   ],
   "source": [
    "dname = \"../data/benign_attack/\"\n",
    "filelist = glob.glob(dname + '*.pcap')\n",
    "script_name = \"../scripts/pcap_to_netflow.sh\"\n",
    "for fname in filelist:\n",
    "    print(fname)\n",
    "    cmd = \"%s %s %s\" % (script_name, fname, dname)\n",
    "    os.system(cmd)"
   ]
  },
  {
   "cell_type": "code",
   "execution_count": null,
   "metadata": {},
   "outputs": [],
   "source": [
    "pcap_file = \"test.pcap\"\n"
   ]
  }
 ],
 "metadata": {
  "kernelspec": {
   "display_name": "Python 3",
   "language": "python",
   "name": "python3"
  },
  "language_info": {
   "codemirror_mode": {
    "name": "ipython",
    "version": 3
   },
   "file_extension": ".py",
   "mimetype": "text/x-python",
   "name": "python",
   "nbconvert_exporter": "python",
   "pygments_lexer": "ipython3",
   "version": "3.8.6"
  }
 },
 "nbformat": 4,
 "nbformat_minor": 4
}
