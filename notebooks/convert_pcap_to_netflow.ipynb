{
 "cells": [
  {
   "cell_type": "code",
   "execution_count": 1,
   "metadata": {},
   "outputs": [],
   "source": [
    "import sys, os, glob"
   ]
  },
  {
   "cell_type": "code",
   "execution_count": 3,
   "metadata": {},
   "outputs": [
    {
     "name": "stdout",
     "output_type": "stream",
     "text": [
      "../data/iot_data/benign/18-06-14.pcap\n",
      "../data/iot_data/benign/18-05-28.pcap\n",
      "../data/iot_data/benign/18-10-11.pcap\n",
      "../data/iot_data/benign/18-06-18.pcap\n",
      "../data/iot_data/benign/18-06-19.pcap\n",
      "../data/iot_data/benign/18-10-10.pcap\n",
      "../data/iot_data/benign/18-05-29.pcap\n",
      "../data/iot_data/benign/18-06-15.pcap\n",
      "../data/iot_data/benign/18-06-12.pcap\n",
      "../data/iot_data/benign/18-10-17.pcap\n",
      "../data/iot_data/benign/18-10-16.pcap\n",
      "../data/iot_data/benign/18-06-13.pcap\n",
      "../data/iot_data/benign/18-06-09.pcap\n",
      "../data/iot_data/benign/18-10-19.pcap\n",
      "../data/iot_data/benign/18-10-15.pcap\n",
      "../data/iot_data/benign/18-06-10.pcap\n",
      "../data/iot_data/benign/18-06-11.pcap\n",
      "../data/iot_data/benign/18-10-14.pcap\n",
      "../data/iot_data/benign/18-10-18.pcap\n",
      "../data/iot_data/benign/18-10-13.pcap\n",
      "../data/iot_data/benign/18-10-29.pcap\n",
      "../data/iot_data/benign/18-06-16.pcap\n",
      "../data/iot_data/benign/18-05-30.pcap\n",
      "../data/iot_data/benign/18-05-31.pcap\n",
      "../data/iot_data/benign/18-06-17.pcap\n",
      "../data/iot_data/benign/18-10-28.pcap\n",
      "../data/iot_data/benign/18-10-12.pcap\n"
     ]
    }
   ],
   "source": [
    "dname = \"../data/iot_data/benign/\"\n",
    "filelist = glob.glob(dname + '*.pcap')\n",
    "script_name = \"../scripts/pcap_to_netflow.sh\"\n",
    "for fname in filelist:\n",
    "    print(fname)\n",
    "    cmd = \"%s %s %s\" % (script_name, fname, dname)\n",
    "    os.system(cmd)"
   ]
  },
  {
   "cell_type": "code",
   "execution_count": null,
   "metadata": {},
   "outputs": [],
   "source": [
    "pcap_file = \"test.pcap\"\n"
   ]
  }
 ],
 "metadata": {
  "kernelspec": {
   "display_name": "Python 3",
   "language": "python",
   "name": "python3"
  },
  "language_info": {
   "codemirror_mode": {
    "name": "ipython",
    "version": 3
   },
   "file_extension": ".py",
   "mimetype": "text/x-python",
   "name": "python",
   "nbconvert_exporter": "python",
   "pygments_lexer": "ipython3",
   "version": "3.7.10"
  }
 },
 "nbformat": 4,
 "nbformat_minor": 4
}
