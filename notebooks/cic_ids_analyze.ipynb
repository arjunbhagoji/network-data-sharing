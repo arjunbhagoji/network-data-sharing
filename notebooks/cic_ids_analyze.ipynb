{
 "cells": [
  {
   "cell_type": "code",
<<<<<<< HEAD
   "execution_count": 2,
   "id": "appointed-canvas",
=======
   "execution_count": 1,
>>>>>>> e44c606d2080d5335daa4b5e9a43031d5775df32
   "metadata": {},
   "outputs": [],
   "source": [
    "import numpy as np\n",
    "import pandas as pd"
   ]
  },
  {
   "cell_type": "markdown",
   "id": "chinese-island",
   "metadata": {},
   "source": [
    "## Importing flows"
   ]
  },
  {
   "cell_type": "code",
<<<<<<< HEAD
   "execution_count": 3,
   "id": "simplified-enhancement",
=======
   "execution_count": 5,
>>>>>>> e44c606d2080d5335daa4b5e9a43031d5775df32
   "metadata": {},
   "outputs": [],
   "source": [
    "Monday=pd.read_csv('../../CIC-IDS-2017/TrafficLabelling/Monday-WorkingHours.pcap_ISCX.csv',delimiter=',')"
   ]
  },
  {
   "cell_type": "code",
   "execution_count": 4,
<<<<<<< HEAD
   "id": "iraqi-humidity",
=======
>>>>>>> e44c606d2080d5335daa4b5e9a43031d5775df32
   "metadata": {},
   "outputs": [],
   "source": [
    "Friday_DDoS=pd.read_csv('../../CIC-IDS-2017/TrafficLabelling/Friday-WorkingHours-Afternoon-DDos.pcap_ISCX.csv',delimiter=',')"
   ]
  },
  {
   "cell_type": "code",
<<<<<<< HEAD
   "execution_count": 5,
   "id": "figured-frame",
=======
   "execution_count": 6,
>>>>>>> e44c606d2080d5335daa4b5e9a43031d5775df32
   "metadata": {},
   "outputs": [
    {
     "data": {
      "text/plain": [
       "Index(['Flow ID', ' Source IP', ' Source Port', ' Destination IP',\n",
       "       ' Destination Port', ' Protocol', ' Timestamp', ' Flow Duration',\n",
       "       ' Total Fwd Packets', ' Total Backward Packets',\n",
       "       'Total Length of Fwd Packets', ' Total Length of Bwd Packets',\n",
       "       ' Fwd Packet Length Max', ' Fwd Packet Length Min',\n",
       "       ' Fwd Packet Length Mean', ' Fwd Packet Length Std',\n",
       "       'Bwd Packet Length Max', ' Bwd Packet Length Min',\n",
       "       ' Bwd Packet Length Mean', ' Bwd Packet Length Std', 'Flow Bytes/s',\n",
       "       ' Flow Packets/s', ' Flow IAT Mean', ' Flow IAT Std', ' Flow IAT Max',\n",
       "       ' Flow IAT Min', 'Fwd IAT Total', ' Fwd IAT Mean', ' Fwd IAT Std',\n",
       "       ' Fwd IAT Max', ' Fwd IAT Min', 'Bwd IAT Total', ' Bwd IAT Mean',\n",
       "       ' Bwd IAT Std', ' Bwd IAT Max', ' Bwd IAT Min', 'Fwd PSH Flags',\n",
       "       ' Bwd PSH Flags', ' Fwd URG Flags', ' Bwd URG Flags',\n",
       "       ' Fwd Header Length', ' Bwd Header Length', 'Fwd Packets/s',\n",
       "       ' Bwd Packets/s', ' Min Packet Length', ' Max Packet Length',\n",
       "       ' Packet Length Mean', ' Packet Length Std', ' Packet Length Variance',\n",
       "       'FIN Flag Count', ' SYN Flag Count', ' RST Flag Count',\n",
       "       ' PSH Flag Count', ' ACK Flag Count', ' URG Flag Count',\n",
       "       ' CWE Flag Count', ' ECE Flag Count', ' Down/Up Ratio',\n",
       "       ' Average Packet Size', ' Avg Fwd Segment Size',\n",
       "       ' Avg Bwd Segment Size', ' Fwd Header Length.1', 'Fwd Avg Bytes/Bulk',\n",
       "       ' Fwd Avg Packets/Bulk', ' Fwd Avg Bulk Rate', ' Bwd Avg Bytes/Bulk',\n",
       "       ' Bwd Avg Packets/Bulk', 'Bwd Avg Bulk Rate', 'Subflow Fwd Packets',\n",
       "       ' Subflow Fwd Bytes', ' Subflow Bwd Packets', ' Subflow Bwd Bytes',\n",
       "       'Init_Win_bytes_forward', ' Init_Win_bytes_backward',\n",
       "       ' act_data_pkt_fwd', ' min_seg_size_forward', 'Active Mean',\n",
       "       ' Active Std', ' Active Max', ' Active Min', 'Idle Mean', ' Idle Std',\n",
       "       ' Idle Max', ' Idle Min', ' Label'],\n",
       "      dtype='object')"
      ]
     },
     "execution_count": 5,
     "metadata": {},
     "output_type": "execute_result"
    }
   ],
   "source": [
    "Monday.columns"
   ]
  },
  {
   "cell_type": "code",
<<<<<<< HEAD
   "execution_count": 6,
   "id": "registered-piece",
=======
   "execution_count": 14,
   "metadata": {},
   "outputs": [],
   "source": [
    "timestamps=Friday_DDoS.loc[:,Friday_DDoS.columns[6]]"
   ]
  },
  {
   "cell_type": "code",
   "execution_count": 15,
>>>>>>> e44c606d2080d5335daa4b5e9a43031d5775df32
   "metadata": {},
   "outputs": [
    {
     "data": {
      "text/plain": [
       "0         7/7/2017 3:30\n",
       "1         7/7/2017 3:30\n",
       "2         7/7/2017 3:30\n",
       "3         7/7/2017 3:30\n",
       "4         7/7/2017 3:30\n",
       "              ...      \n",
       "225740    7/7/2017 5:02\n",
       "225741    7/7/2017 5:02\n",
       "225742    7/7/2017 5:02\n",
       "225743    7/7/2017 5:02\n",
       "225744    7/7/2017 5:02\n",
       "Name:  Timestamp, Length: 225745, dtype: object"
      ]
     },
     "execution_count": 6,
     "metadata": {},
     "output_type": "execute_result"
    }
   ],
   "source": [
    "timestamps=Friday_DDoS.loc[:,Friday_DDoS.columns[6]]\n",
    "timestamps"
   ]
  },
  {
   "cell_type": "code",
<<<<<<< HEAD
   "execution_count": 7,
   "id": "graduate-smooth",
=======
   "execution_count": 16,
   "metadata": {},
   "outputs": [],
   "source": [
    "flow_durations=Friday_DDoS.loc[:,Friday_DDoS.columns[7]]"
   ]
  },
  {
   "cell_type": "code",
   "execution_count": 17,
>>>>>>> e44c606d2080d5335daa4b5e9a43031d5775df32
   "metadata": {},
   "outputs": [
    {
     "data": {
      "text/plain": [
       "0           3\n",
       "1         109\n",
       "2          52\n",
       "3          34\n",
       "4           3\n",
       "         ... \n",
       "225740     61\n",
       "225741     72\n",
       "225742     75\n",
       "225743     48\n",
       "225744     68\n",
       "Name:  Flow Duration, Length: 225745, dtype: int64"
      ]
     },
     "execution_count": 7,
     "metadata": {},
     "output_type": "execute_result"
    }
   ],
   "source": [
    "flow_durations=Friday_DDoS.loc[:,Friday_DDoS.columns[7]]\n",
    "flow_durations"
   ]
  },
  {
   "cell_type": "markdown",
   "id": "french-brook",
   "metadata": {},
   "source": [
    "## Loading labels and isolating IPs "
   ]
  },
  {
   "cell_type": "code",
   "execution_count": 42,
<<<<<<< HEAD
   "id": "moderate-cannon",
=======
>>>>>>> e44c606d2080d5335daa4b5e9a43031d5775df32
   "metadata": {},
   "outputs": [],
   "source": [
    "labels=A.loc[np.where(labels_np=='DDoS')[0],[A.columns[84]]]"
   ]
  },
  {
   "cell_type": "code",
   "execution_count": 43,
<<<<<<< HEAD
   "id": "stopped-bronze",
=======
>>>>>>> e44c606d2080d5335daa4b5e9a43031d5775df32
   "metadata": {},
   "outputs": [
    {
     "data": {
      "text/html": [
       "<div>\n",
       "<style scoped>\n",
       "    .dataframe tbody tr th:only-of-type {\n",
       "        vertical-align: middle;\n",
       "    }\n",
       "\n",
       "    .dataframe tbody tr th {\n",
       "        vertical-align: top;\n",
       "    }\n",
       "\n",
       "    .dataframe thead th {\n",
       "        text-align: right;\n",
       "    }\n",
       "</style>\n",
       "<table border=\"1\" class=\"dataframe\">\n",
       "  <thead>\n",
       "    <tr style=\"text-align: right;\">\n",
       "      <th></th>\n",
       "      <th>Label</th>\n",
       "    </tr>\n",
       "  </thead>\n",
       "  <tbody>\n",
       "    <tr>\n",
       "      <th>18883</th>\n",
       "      <td>DDoS</td>\n",
       "    </tr>\n",
       "    <tr>\n",
       "      <th>18884</th>\n",
       "      <td>DDoS</td>\n",
       "    </tr>\n",
       "    <tr>\n",
       "      <th>18885</th>\n",
       "      <td>DDoS</td>\n",
       "    </tr>\n",
       "    <tr>\n",
       "      <th>18886</th>\n",
       "      <td>DDoS</td>\n",
       "    </tr>\n",
       "    <tr>\n",
       "      <th>18887</th>\n",
       "      <td>DDoS</td>\n",
       "    </tr>\n",
       "    <tr>\n",
       "      <th>...</th>\n",
       "      <td>...</td>\n",
       "    </tr>\n",
       "    <tr>\n",
       "      <th>197538</th>\n",
       "      <td>DDoS</td>\n",
       "    </tr>\n",
       "    <tr>\n",
       "      <th>197539</th>\n",
       "      <td>DDoS</td>\n",
       "    </tr>\n",
       "    <tr>\n",
       "      <th>197540</th>\n",
       "      <td>DDoS</td>\n",
       "    </tr>\n",
       "    <tr>\n",
       "      <th>197541</th>\n",
       "      <td>DDoS</td>\n",
       "    </tr>\n",
       "    <tr>\n",
       "      <th>197542</th>\n",
       "      <td>DDoS</td>\n",
       "    </tr>\n",
       "  </tbody>\n",
       "</table>\n",
       "<p>128027 rows × 1 columns</p>\n",
       "</div>"
      ],
      "text/plain": [
       "        Label\n",
       "18883    DDoS\n",
       "18884    DDoS\n",
       "18885    DDoS\n",
       "18886    DDoS\n",
       "18887    DDoS\n",
       "...       ...\n",
       "197538   DDoS\n",
       "197539   DDoS\n",
       "197540   DDoS\n",
       "197541   DDoS\n",
       "197542   DDoS\n",
       "\n",
       "[128027 rows x 1 columns]"
      ]
     },
     "execution_count": 43,
     "metadata": {},
     "output_type": "execute_result"
    }
   ],
   "source": [
    "labels"
   ]
  },
  {
   "cell_type": "code",
   "execution_count": 45,
<<<<<<< HEAD
   "id": "numerical-omega",
=======
>>>>>>> e44c606d2080d5335daa4b5e9a43031d5775df32
   "metadata": {},
   "outputs": [],
   "source": [
    "source_ports=A.loc[:,[A.columns[1]]]"
   ]
  },
  {
   "cell_type": "code",
   "execution_count": 66,
<<<<<<< HEAD
   "id": "convertible-pepper",
=======
>>>>>>> e44c606d2080d5335daa4b5e9a43031d5775df32
   "metadata": {},
   "outputs": [
    {
     "data": {
      "text/plain": [
       "array(['172.16.0.1', '192.168.10.50'], dtype=object)"
      ]
     },
     "execution_count": 66,
     "metadata": {},
     "output_type": "execute_result"
    }
   ],
   "source": [
    "source_ports.loc[np.where(labels_np=='DDoS')[0]][' Source IP'].unique()"
   ]
  },
  {
   "cell_type": "code",
   "execution_count": 49,
<<<<<<< HEAD
   "id": "hindu-maryland",
=======
>>>>>>> e44c606d2080d5335daa4b5e9a43031d5775df32
   "metadata": {},
   "outputs": [
    {
     "data": {
      "text/html": [
       "<div>\n",
       "<style scoped>\n",
       "    .dataframe tbody tr th:only-of-type {\n",
       "        vertical-align: middle;\n",
       "    }\n",
       "\n",
       "    .dataframe tbody tr th {\n",
       "        vertical-align: top;\n",
       "    }\n",
       "\n",
       "    .dataframe thead th {\n",
       "        text-align: right;\n",
       "    }\n",
       "</style>\n",
       "<table border=\"1\" class=\"dataframe\">\n",
       "  <thead>\n",
       "    <tr style=\"text-align: right;\">\n",
       "      <th></th>\n",
       "      <th>Source IP</th>\n",
       "    </tr>\n",
       "  </thead>\n",
       "  <tbody>\n",
       "    <tr>\n",
       "      <th>0</th>\n",
       "      <td>104.16.207.165</td>\n",
       "    </tr>\n",
       "    <tr>\n",
       "      <th>1</th>\n",
       "      <td>104.16.28.216</td>\n",
       "    </tr>\n",
       "    <tr>\n",
       "      <th>2</th>\n",
       "      <td>104.16.28.216</td>\n",
       "    </tr>\n",
       "    <tr>\n",
       "      <th>3</th>\n",
       "      <td>104.17.241.25</td>\n",
       "    </tr>\n",
       "    <tr>\n",
       "      <th>4</th>\n",
       "      <td>104.19.196.102</td>\n",
       "    </tr>\n",
       "    <tr>\n",
       "      <th>...</th>\n",
       "      <td>...</td>\n",
       "    </tr>\n",
       "    <tr>\n",
       "      <th>225740</th>\n",
       "      <td>72.21.91.29</td>\n",
       "    </tr>\n",
       "    <tr>\n",
       "      <th>225741</th>\n",
       "      <td>72.21.91.29</td>\n",
       "    </tr>\n",
       "    <tr>\n",
       "      <th>225742</th>\n",
       "      <td>72.21.91.29</td>\n",
       "    </tr>\n",
       "    <tr>\n",
       "      <th>225743</th>\n",
       "      <td>8.41.222.187</td>\n",
       "    </tr>\n",
       "    <tr>\n",
       "      <th>225744</th>\n",
       "      <td>8.43.72.21</td>\n",
       "    </tr>\n",
       "  </tbody>\n",
       "</table>\n",
       "<p>97718 rows × 1 columns</p>\n",
       "</div>"
      ],
      "text/plain": [
       "             Source IP\n",
       "0       104.16.207.165\n",
       "1        104.16.28.216\n",
       "2        104.16.28.216\n",
       "3        104.17.241.25\n",
       "4       104.19.196.102\n",
       "...                ...\n",
       "225740     72.21.91.29\n",
       "225741     72.21.91.29\n",
       "225742     72.21.91.29\n",
       "225743    8.41.222.187\n",
       "225744      8.43.72.21\n",
       "\n",
       "[97718 rows x 1 columns]"
      ]
     },
     "execution_count": 49,
     "metadata": {},
     "output_type": "execute_result"
    }
   ],
   "source": [
    "source_ports.loc[np.where(labels_np=='BENIGN')[0]]"
   ]
  },
  {
   "cell_type": "code",
   "execution_count": 50,
<<<<<<< HEAD
   "id": "tight-intranet",
=======
>>>>>>> e44c606d2080d5335daa4b5e9a43031d5775df32
   "metadata": {},
   "outputs": [],
   "source": [
    "dest_ports=A.loc[:,[A.columns[3]]]"
   ]
  },
  {
   "cell_type": "code",
   "execution_count": 61,
<<<<<<< HEAD
   "id": "adjusted-making",
=======
>>>>>>> e44c606d2080d5335daa4b5e9a43031d5775df32
   "metadata": {},
   "outputs": [
    {
     "data": {
      "text/plain": [
       "2554"
      ]
     },
     "execution_count": 61,
     "metadata": {},
     "output_type": "execute_result"
    }
   ],
   "source": [
    "len(dest_ports[' Destination IP'].unique())"
   ]
  },
  {
   "cell_type": "code",
   "execution_count": 52,
<<<<<<< HEAD
   "id": "standard-litigation",
=======
>>>>>>> e44c606d2080d5335daa4b5e9a43031d5775df32
   "metadata": {},
   "outputs": [
    {
     "data": {
      "text/html": [
       "<div>\n",
       "<style scoped>\n",
       "    .dataframe tbody tr th:only-of-type {\n",
       "        vertical-align: middle;\n",
       "    }\n",
       "\n",
       "    .dataframe tbody tr th {\n",
       "        vertical-align: top;\n",
       "    }\n",
       "\n",
       "    .dataframe thead th {\n",
       "        text-align: right;\n",
       "    }\n",
       "</style>\n",
       "<table border=\"1\" class=\"dataframe\">\n",
       "  <thead>\n",
       "    <tr style=\"text-align: right;\">\n",
       "      <th></th>\n",
       "      <th>Destination IP</th>\n",
       "    </tr>\n",
       "  </thead>\n",
       "  <tbody>\n",
       "    <tr>\n",
       "      <th>0</th>\n",
       "      <td>192.168.10.5</td>\n",
       "    </tr>\n",
       "    <tr>\n",
       "      <th>1</th>\n",
       "      <td>192.168.10.5</td>\n",
       "    </tr>\n",
       "    <tr>\n",
       "      <th>2</th>\n",
       "      <td>192.168.10.5</td>\n",
       "    </tr>\n",
       "    <tr>\n",
       "      <th>3</th>\n",
       "      <td>192.168.10.16</td>\n",
       "    </tr>\n",
       "    <tr>\n",
       "      <th>4</th>\n",
       "      <td>192.168.10.5</td>\n",
       "    </tr>\n",
       "    <tr>\n",
       "      <th>...</th>\n",
       "      <td>...</td>\n",
       "    </tr>\n",
       "    <tr>\n",
       "      <th>225740</th>\n",
       "      <td>192.168.10.15</td>\n",
       "    </tr>\n",
       "    <tr>\n",
       "      <th>225741</th>\n",
       "      <td>192.168.10.15</td>\n",
       "    </tr>\n",
       "    <tr>\n",
       "      <th>225742</th>\n",
       "      <td>192.168.10.15</td>\n",
       "    </tr>\n",
       "    <tr>\n",
       "      <th>225743</th>\n",
       "      <td>192.168.10.15</td>\n",
       "    </tr>\n",
       "    <tr>\n",
       "      <th>225744</th>\n",
       "      <td>192.168.10.15</td>\n",
       "    </tr>\n",
       "  </tbody>\n",
       "</table>\n",
       "<p>97718 rows × 1 columns</p>\n",
       "</div>"
      ],
      "text/plain": [
       "        Destination IP\n",
       "0         192.168.10.5\n",
       "1         192.168.10.5\n",
       "2         192.168.10.5\n",
       "3        192.168.10.16\n",
       "4         192.168.10.5\n",
       "...                ...\n",
       "225740   192.168.10.15\n",
       "225741   192.168.10.15\n",
       "225742   192.168.10.15\n",
       "225743   192.168.10.15\n",
       "225744   192.168.10.15\n",
       "\n",
       "[97718 rows x 1 columns]"
      ]
     },
     "execution_count": 52,
     "metadata": {},
     "output_type": "execute_result"
    }
   ],
   "source": [
    "dest_ports.loc[np.where(labels_np=='BENIGN')[0]]"
   ]
  },
  {
   "cell_type": "code",
   "execution_count": 64,
<<<<<<< HEAD
   "id": "fancy-private",
=======
>>>>>>> e44c606d2080d5335daa4b5e9a43031d5775df32
   "metadata": {},
   "outputs": [
    {
     "data": {
      "text/plain": [
       "array(['192.168.10.50', '172.16.0.1'], dtype=object)"
      ]
     },
     "execution_count": 64,
     "metadata": {},
     "output_type": "execute_result"
    }
   ],
   "source": [
    "dest_ports.loc[np.where(labels_np=='DDoS')[0]][' Destination IP'].unique()"
   ]
  },
  {
   "cell_type": "markdown",
   "id": "moral-advancement",
   "metadata": {},
   "source": [
    "## Importing sanitized data"
   ]
  },
  {
   "cell_type": "code",
<<<<<<< HEAD
   "execution_count": 8,
   "id": "seeing-guess",
=======
   "execution_count": null,
>>>>>>> e44c606d2080d5335daa4b5e9a43031d5775df32
   "metadata": {},
   "outputs": [],
   "source": [
    "Monday_san=pd.read_csv('../../CIC-IDS-2017/MachineLearningCVE/Monday-WorkingHours.pcap_ISCX.csv',delimiter=',')"
   ]
  },
  {
   "cell_type": "code",
   "execution_count": 11,
   "id": "executive-consideration",
   "metadata": {},
   "outputs": [
    {
     "data": {
      "text/plain": [
       "Index([' Destination Port', ' Flow Duration', ' Total Fwd Packets',\n",
       "       ' Total Backward Packets', 'Total Length of Fwd Packets',\n",
       "       ' Total Length of Bwd Packets', ' Fwd Packet Length Max',\n",
       "       ' Fwd Packet Length Min', ' Fwd Packet Length Mean',\n",
       "       ' Fwd Packet Length Std', 'Bwd Packet Length Max',\n",
       "       ' Bwd Packet Length Min', ' Bwd Packet Length Mean',\n",
       "       ' Bwd Packet Length Std', 'Flow Bytes/s', ' Flow Packets/s',\n",
       "       ' Flow IAT Mean', ' Flow IAT Std', ' Flow IAT Max', ' Flow IAT Min',\n",
       "       'Fwd IAT Total', ' Fwd IAT Mean', ' Fwd IAT Std', ' Fwd IAT Max',\n",
       "       ' Fwd IAT Min', 'Bwd IAT Total', ' Bwd IAT Mean', ' Bwd IAT Std',\n",
       "       ' Bwd IAT Max', ' Bwd IAT Min', 'Fwd PSH Flags', ' Bwd PSH Flags',\n",
       "       ' Fwd URG Flags', ' Bwd URG Flags', ' Fwd Header Length',\n",
       "       ' Bwd Header Length', 'Fwd Packets/s', ' Bwd Packets/s',\n",
       "       ' Min Packet Length', ' Max Packet Length', ' Packet Length Mean',\n",
       "       ' Packet Length Std', ' Packet Length Variance', 'FIN Flag Count',\n",
       "       ' SYN Flag Count', ' RST Flag Count', ' PSH Flag Count',\n",
       "       ' ACK Flag Count', ' URG Flag Count', ' CWE Flag Count',\n",
       "       ' ECE Flag Count', ' Down/Up Ratio', ' Average Packet Size',\n",
       "       ' Avg Fwd Segment Size', ' Avg Bwd Segment Size',\n",
       "       ' Fwd Header Length.1', 'Fwd Avg Bytes/Bulk', ' Fwd Avg Packets/Bulk',\n",
       "       ' Fwd Avg Bulk Rate', ' Bwd Avg Bytes/Bulk', ' Bwd Avg Packets/Bulk',\n",
       "       'Bwd Avg Bulk Rate', 'Subflow Fwd Packets', ' Subflow Fwd Bytes',\n",
       "       ' Subflow Bwd Packets', ' Subflow Bwd Bytes', 'Init_Win_bytes_forward',\n",
       "       ' Init_Win_bytes_backward', ' act_data_pkt_fwd',\n",
       "       ' min_seg_size_forward', 'Active Mean', ' Active Std', ' Active Max',\n",
       "       ' Active Min', 'Idle Mean', ' Idle Std', ' Idle Max', ' Idle Min',\n",
       "       ' Label'],\n",
       "      dtype='object')"
      ]
     },
     "execution_count": 11,
     "metadata": {},
     "output_type": "execute_result"
    }
   ],
   "source": [
    "Monday_san.columns"
   ]
  }
 ],
 "metadata": {
  "kernelspec": {
   "display_name": "Python 3",
   "language": "python",
   "name": "python3"
  },
  "language_info": {
   "codemirror_mode": {
    "name": "ipython",
    "version": 3
   },
   "file_extension": ".py",
   "mimetype": "text/x-python",
   "name": "python",
   "nbconvert_exporter": "python",
   "pygments_lexer": "ipython3",
   "version": "3.8.6"
  }
 },
 "nbformat": 4,
 "nbformat_minor": 5
}
