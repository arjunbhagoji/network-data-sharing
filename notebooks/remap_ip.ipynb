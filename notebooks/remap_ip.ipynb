{
 "cells": [
  {
   "cell_type": "code",
   "execution_count": null,
   "metadata": {},
   "outputs": [],
   "source": []
  },
  {
   "cell_type": "code",
   "execution_count": 10,
   "metadata": {},
   "outputs": [],
   "source": [
    "import os, sys, pandas as pd, glob\n",
    "import datetime, time\n",
    "pd.set_option('display.max_columns', None)\n",
    "pd.set_option('display.float_format', '{:.2f}'.format)\n",
    "pd.set_option('mode.chained_assignment', None)"
   ]
  },
  {
   "cell_type": "code",
   "execution_count": 11,
   "metadata": {},
   "outputs": [
    {
     "name": "stderr",
     "output_type": "stream",
     "text": [
      "/usr/local/lib/python3.8/site-packages/IPython/core/interactiveshell.py:3146: DtypeWarning: Columns (2,5) have mixed types.Specify dtype option on import or set low_memory=False.\n",
      "  has_raised = await self.run_ast_nodes(code_ast.body, cell_name,\n"
     ]
    }
   ],
   "source": [
    "input_dir = \"../data/benign_attack/nfcapd.*.csv\"\n",
    "input_data_file_list = glob.glob(input_dir)\n",
    "\n",
    "li = []\n",
    "for filename in input_data_file_list:\n",
    "    df = pd.read_csv(filename, index_col=None, header=0)\n",
    "    li.append(df)\n",
    "\n",
    "df = pd.concat(li, axis=0, ignore_index=True)\n",
    "# filter out the last few lines that are aggregate stats and not flow records\n",
    "df = df[~pd.isna(df[\"pr\"])]\n"
   ]
  },
  {
   "cell_type": "code",
   "execution_count": 13,
   "metadata": {},
   "outputs": [],
   "source": [
    "def getTimestamp(time_str):\n",
    "    return time.mktime(datetime.datetime.strptime(time_str, \"%Y-%m-%d %H:%M:%S\").timetuple())\n",
    "    \n",
    "df['st_timestamp'] = df['ts'].apply(getTimestamp)\n",
    "df['et_timestamp'] = df['te'].apply(getTimestamp)"
   ]
  },
  {
   "cell_type": "code",
   "execution_count": 19,
   "metadata": {},
   "outputs": [
    {
     "name": "stdout",
     "output_type": "stream",
     "text": [
      "../data/annotations/ec1a59832811.csv\n",
      "../data/annotations/ec1a5979f489.csv\n",
      "../data/annotations/00166cab6b88.csv\n",
      "../data/annotations/50c7bf005639.csv\n",
      "../data/annotations/70ee50183443.csv\n",
      "../data/annotations/0017882B9A25.csv\n",
      "../data/annotations/44650D56CCD3.csv\n",
      "../data/annotations/F4F5D88F0A3C.csv\n",
      "../data/annotations/74C63B29D71D.csv\n",
      "../data/annotations/D073D5018308.csv\n"
     ]
    }
   ],
   "source": [
    "df_mac2ip = pd.read_csv('data/iot_mac2ip.csv', sep='\\t')\n",
    "df_mac2ip['fname'] = df_mac2ip['MAC'].apply(lambda x: x.replace(':', '') + '.csv')\n",
    "mac2ip_list = df_mac2ip.values.tolist()\n",
    "dfTemp = df\n",
    "dfTemp['flow_tag'] = \"\"\n",
    "for i in range(0, len(mac2ip_list)):\n",
    "    fname = '../data/annotations/' + mac2ip_list[i][3]\n",
    "    print(fname)\n",
    "    ip_addr = mac2ip_list[i][1]\n",
    "    df_annotation = pd.read_csv(fname)\n",
    "    l = df_annotation.values.tolist()\n",
    "    for i in range(0, len(l)):\n",
    "        v = l[i]\n",
    "        (st, et) = (v[0], v[1])\n",
    "        tag = v[2]\n",
    "        dfTemp['flow_tag'].loc[(df['st_timestamp'] >= st) & (df['st_timestamp'] < et) & ((df['sa'] == ip_addr) | (df['da'] == ip_addr)) ] = tag\n",
    "\n",
    "    "
   ]
  },
  {
   "cell_type": "code",
   "execution_count": 20,
   "metadata": {},
   "outputs": [],
   "source": [
    "def getFlowType(x):\n",
    "    if x == \"\":\n",
    "        return 0\n",
    "    else:\n",
    "        return 1\n",
    "dfTemp[\"flow_type\"] = dfTemp[\"flow_tag\"].apply(getFlowType)"
   ]
  },
  {
   "cell_type": "code",
   "execution_count": 20,
   "metadata": {},
   "outputs": [],
   "source": [
    "ips_to_remap_list = [\"192.168.1.1\", \"192.168.1.2\"]\n",
    "ips_to_remap_dict = dict.fromkeys(ips_to_remap_list, 1)"
   ]
  },
  {
   "cell_type": "code",
   "execution_count": 8,
   "metadata": {},
   "outputs": [
    {
     "name": "stdout",
     "output_type": "stream",
     "text": [
      "100\n"
     ]
    }
   ],
   "source": [
    "## Also consider doing it for pcaps\n",
    "\n",
    "## TODO: Tarun\n",
    "## function to generate IPs\n",
    "\n",
    "## Either assume an IP list \n",
    "## # of IP addresses \n",
    "\n",
    "## Otherwise generate a random set of IP addresses \n",
    "# of IPs/ Standard deviation. Pick a random mean. \n",
    "\n",
    "import numpy as np\n",
    "import ipaddress\n",
    "\n",
    "def generate_ips(num_ip, mode == \"gen\", filename = None, std_dev=1000):\n",
    "    if mode == \"file\":\n",
    "        df = pd.read_csv(filename, header=0)\n",
    "        ip_list = list(df[\"ip\"])\n",
    "    elif mode == \"gen\":\n",
    "        ip_list = generate_ips_from_normal(num_ip, std_dev)\n",
    "    return ip_list\n",
    "        \n",
    "\n",
    "## assumes normally distributed IPs. Input: Standard deviation of the IP distance, # of IP addresses\n",
    "def generate_ips_from_normal(num_ip, std_dev=10000):\n",
    "    mean_ip = 2155905152 # 128.128.128.128\n",
    "    ip_list = np.random.normal(mean_ip, std_dev, num_ip)\n",
    "    ip_list_str = [ipaddress.ip_address(int(x)).__str__() for x in ip_list]\n",
    "    return ip_list_str\n",
    "\n",
    "generate_ips(100)"
   ]
  },
  {
   "cell_type": "code",
   "execution_count": 41,
   "metadata": {},
   "outputs": [],
   "source": [
    "ip_list = get_ip_pool(\"data/ip_list.csv\")\n",
    "last_remap_idx = 0\n",
    "len_ip_list = len(ip_order_list)\n",
    "flow_map = {}\n",
    "\n",
    "# remap the IP address. Don't parallelize the function\n",
    "def remap_ip(x, field_name):\n",
    "    src_ip, src_port, dst_ip, dst_port = (x[\"sa\"], x[\"sp\"], x[\"da\"], x[\"dp\"])\n",
    "    ip_to_map = src_ip\n",
    "    if field_name == \"da\":\n",
    "        ip_to_map = dst_ip\n",
    "    \n",
    "    global last_remap_idx, flow_map\n",
    "    flow_tuple = (src_ip, src_port, dst_ip, dst_port)\n",
    "    if ip_to_map in ips_to_remap_dict:\n",
    "        if flow_tuple in flow_map:\n",
    "            ip_to_map = flow_map[flow_tuple]\n",
    "        else:\n",
    "            ip_to_map = ip_list[last_remap_idx % len_ip_list]\n",
    "            flow_map[flow_tuple] = ip_to_map\n",
    "            last_remap_idx += 1\n",
    "    return ip_to_map"
   ]
  },
  {
   "cell_type": "code",
   "execution_count": 42,
   "metadata": {},
   "outputs": [
    {
     "name": "stdout",
     "output_type": "stream",
     "text": [
      "[['2018-10-26 06:00:25', '2018-10-26 06:04:35', '250.011', '192.168.1.1', '192.168.1.119', '0', 0.0, 'ICMP', '........', 0.0, 0.0, 10.0, 560.0, 0.0, 0.0, 0.0, 0.0, 0.0, 0.0, 0.0, 0.0, 0.0, 0.0, '0.0.0.0', '0.0.0.0', 0.0, 0.0, '00:00:00:00:00:00', '00:00:00:00:00:00', '00:00:00:00:00:00', '00:00:00:00:00:00', '0-0-0', '0-0-0', '0-0-0', '0-0-0', '0-0-0', '0-0-0', '0-0-0', '0-0-0', '0-0-0', '0-0-0', 0.0, 0.0, 0.0, '0.0.0.0', '0/0', 0.0, '1969-12-31 18:00:00.000', '192.168.10.10', '192.168.1.119'], ['2018-10-26 06:04:36', '2018-10-26 06:04:36', '0.097', '192.168.1.119', '8.8.8.8', '36258', 53.0, 'UDP', '........', 0.0, 0.0, 1.0, 32.0, 1.0, 48.0, 0.0, 0.0, 0.0, 0.0, 0.0, 0.0, 0.0, 0.0, '0.0.0.0', '0.0.0.0', 0.0, 0.0, '00:00:00:00:00:00', '00:00:00:00:00:00', '00:00:00:00:00:00', '00:00:00:00:00:00', '0-0-0', '0-0-0', '0-0-0', '0-0-0', '0-0-0', '0-0-0', '0-0-0', '0-0-0', '0-0-0', '0-0-0', 0.0, 0.0, 0.0, '0.0.0.0', '0/0', 0.0, '1969-12-31 18:00:00.000', '192.168.1.119', '8.8.8.8'], ['2018-10-26 05:55:49', '2018-10-26 06:00:20', '270.818', '74.125.200.188', '192.168.1.192', '5228', 34488.0, 'TCP', '...A....', 0.0, 0.0, 7.0, 224.0, 7.0, 224.0, 0.0, 0.0, 0.0, 0.0, 0.0, 0.0, 0.0, 0.0, '0.0.0.0', '0.0.0.0', 0.0, 0.0, '00:00:00:00:00:00', '00:00:00:00:00:00', '00:00:00:00:00:00', '00:00:00:00:00:00', '0-0-0', '0-0-0', '0-0-0', '0-0-0', '0-0-0', '0-0-0', '0-0-0', '0-0-0', '0-0-0', '0-0-0', 45027.066, 93.286, 93.33200000000001, '0.0.0.0', '0/0', 0.0, '1969-12-31 18:00:00.000', '74.125.200.188', '192.168.1.192'], ['2018-10-26 05:59:26', '2018-10-26 05:59:29', '2.859', '174.129.217.97', '192.168.1.165', '3478', 3902.0, 'TCP', '...AP.SF', 0.0, 0.0, 5.0, 448.0, 8.0, 468.0, 0.0, 0.0, 0.0, 0.0, 0.0, 0.0, 0.0, 0.0, '0.0.0.0', '0.0.0.0', 0.0, 0.0, '00:00:00:00:00:00', '00:00:00:00:00:00', '00:00:00:00:00:00', '00:00:00:00:00:00', '0-0-0', '0-0-0', '0-0-0', '0-0-0', '0-0-0', '0-0-0', '0-0-0', '0-0-0', '0-0-0', '0-0-0', 3.785, 208.007, 210.278, '0.0.0.0', '0/0', 0.0, '1969-12-31 18:00:00.000', '174.129.217.97', '192.168.1.165'], ['2018-10-26 06:02:20', '2018-10-26 06:02:20', '0.000', '192.168.1.108', '13.251.225.193', '30722', 8089.0, 'UDP', '........', 0.0, 0.0, 1.0, 13.0, 0.0, 0.0, 0.0, 0.0, 0.0, 0.0, 0.0, 0.0, 0.0, 0.0, '0.0.0.0', '0.0.0.0', 0.0, 0.0, '00:00:00:00:00:00', '00:00:00:00:00:00', '00:00:00:00:00:00', '00:00:00:00:00:00', '0-0-0', '0-0-0', '0-0-0', '0-0-0', '0-0-0', '0-0-0', '0-0-0', '0-0-0', '0-0-0', '0-0-0', 0.0, 0.0, 0.0, '0.0.0.0', '0/0', 0.0, '1969-12-31 18:00:00.000', '192.168.1.108', '13.251.225.193'], ['2018-10-26 06:04:58', '2018-10-26 06:04:58', '0.099', '192.168.1.119', '8.8.8.8', '45680', 53.0, 'UDP', '........', 0.0, 0.0, 1.0, 47.0, 1.0, 63.0, 0.0, 0.0, 0.0, 0.0, 0.0, 0.0, 0.0, 0.0, '0.0.0.0', '0.0.0.0', 0.0, 0.0, '00:00:00:00:00:00', '00:00:00:00:00:00', '00:00:00:00:00:00', '00:00:00:00:00:00', '0-0-0', '0-0-0', '0-0-0', '0-0-0', '0-0-0', '0-0-0', '0-0-0', '0-0-0', '0-0-0', '0-0-0', 0.0, 0.0, 0.0, '0.0.0.0', '0/0', 0.0, '1969-12-31 18:00:00.000', '192.168.1.119', '8.8.8.8'], ['2018-10-26 06:01:58', '2018-10-26 06:02:00', '1.355', '52.35.213.173', '192.168.1.216', '443', 53978.0, 'TCP', '...AP.SF', 0.0, 0.0, 9.0, 2486.0, 13.0, 5420.0, 0.0, 0.0, 0.0, 0.0, 0.0, 0.0, 0.0, 0.0, '0.0.0.0', '0.0.0.0', 0.0, 0.0, '00:00:00:00:00:00', '00:00:00:00:00:00', '00:00:00:00:00:00', '00:00:00:00:00:00', '0-0-0', '0-0-0', '0-0-0', '0-0-0', '0-0-0', '0-0-0', '0-0-0', '0-0-0', '0-0-0', '0-0-0', 5.006, 153.531, 155.069, '0.0.0.0', '0/0', 0.0, '1969-12-31 18:00:00.000', '52.35.213.173', '192.168.1.216'], ['2018-10-26 06:02:52', '2018-10-26 06:03:52', '60.136', '52.5.220.5', '192.168.1.230', '443', 60125.0, 'TCP', '...APRSF', 0.0, 0.0, 13.0, 7069.0, 17.0, 3590.0, 0.0, 0.0, 0.0, 0.0, 0.0, 0.0, 0.0, 0.0, '0.0.0.0', '0.0.0.0', 0.0, 0.0, '00:00:00:00:00:00', '00:00:00:00:00:00', '00:00:00:00:00:00', '00:00:00:00:00:00', '0-0-0', '0-0-0', '0-0-0', '0-0-0', '0-0-0', '0-0-0', '0-0-0', '0-0-0', '0-0-0', '0-0-0', 6.404, 213.167, 254.013, '0.0.0.0', '0/0', 0.0, '1969-12-31 18:00:00.000', '52.5.220.5', '192.168.1.230'], ['2018-10-26 06:03:41', '2018-10-26 06:03:41', '0.016', '192.168.1.165', '192.168.1.245', '4638', 49153.0, 'TCP', '...AP.SF', 0.0, 0.0, 8.0, 447.0, 8.0, 4936.0, 0.0, 0.0, 0.0, 0.0, 0.0, 0.0, 0.0, 0.0, '0.0.0.0', '0.0.0.0', 0.0, 0.0, '00:00:00:00:00:00', '00:00:00:00:00:00', '00:00:00:00:00:00', '00:00:00:00:00:00', '0-0-0', '0-0-0', '0-0-0', '0-0-0', '0-0-0', '0-0-0', '0-0-0', '0-0-0', '0-0-0', '0-0-0', 1.123, 0.872, 1.287, '0.0.0.0', '0/0', 0.0, '1969-12-31 18:00:00.000', '192.168.1.165', '192.168.1.245'], ['2018-10-26 05:59:33', '2018-10-26 05:59:34', '0.025', '192.168.1.129', '192.168.1.245', '80', 39984.0, 'TCP', '...AP.SF', 0.0, 0.0, 5.0, 1171.0, 5.0, 281.0, 0.0, 0.0, 0.0, 0.0, 0.0, 0.0, 0.0, 0.0, '0.0.0.0', '0.0.0.0', 0.0, 0.0, '00:00:00:00:00:00', '00:00:00:00:00:00', '00:00:00:00:00:00', '00:00:00:00:00:00', '0-0-0', '0-0-0', '0-0-0', '0-0-0', '0-0-0', '0-0-0', '0-0-0', '0-0-0', '0-0-0', '0-0-0', 2.989, 3.342, 6.277, '0.0.0.0', '0/0', 0.0, '1969-12-31 18:00:00.000', '192.168.1.129', '192.168.1.245']]\n"
     ]
    }
   ],
   "source": [
    "df[\"src_ip_remapped\"] = df.apply(lambda x: remap_ip(x, 'sa'), axis=1)\n",
    "df[\"dst_ip_remapped\"] = df.apply(lambda x: remap_ip(x, 'da'), axis=1)\n",
    "outdir = \"data/remapped_data/\"\n",
    "df.to_csv(\"data/remapped_data/\")"
   ]
  },
  {
   "cell_type": "code",
   "execution_count": null,
   "metadata": {},
   "outputs": [],
   "source": [
    "## TODO Arjun: data partitioning \n",
    "\n",
    "# functionality. Parameter: # of partitions, split_logic\n",
    "## Split logics\n",
    "### maintain ratio of b2m\n",
    "### split randomly  \n",
    "### based on source/dst IP addresses"
   ]
  }
 ],
 "metadata": {
  "kernelspec": {
   "display_name": "Python 3",
   "language": "python",
   "name": "python3"
  },
  "language_info": {
   "codemirror_mode": {
    "name": "ipython",
    "version": 3
   },
   "file_extension": ".py",
   "mimetype": "text/x-python",
   "name": "python",
   "nbconvert_exporter": "python",
   "pygments_lexer": "ipython3",
   "version": "3.8.6"
  }
 },
 "nbformat": 4,
 "nbformat_minor": 4
}
