{
 "cells": [
  {
   "cell_type": "code",
   "execution_count": 87,
   "metadata": {},
   "outputs": [],
   "source": [
    "import os, sys, pandas as pd, glob\n",
    "import datetime, time\n",
    "pd.set_option('display.max_columns', None)\n",
    "pd.set_option('display.float_format', '{:.2f}'.format)\n",
    "pd.set_option('mode.chained_assignment', None)"
   ]
  },
  {
   "cell_type": "code",
   "execution_count": null,
   "metadata": {},
   "outputs": [],
   "source": []
  },
  {
   "cell_type": "code",
   "execution_count": 37,
   "metadata": {},
   "outputs": [],
   "source": [
    "input_dir = \"../scripts/data/*.csv\"\n",
    "input_data_file_list = glob.glob(input_dir)\n",
    "\n",
    "li = []\n",
    "for filename in input_data_file_list:\n",
    "    df = pd.read_csv(filename, index_col=None, header=0)\n",
    "    li.append(df)\n",
    "\n",
    "df = pd.concat(li, axis=0, ignore_index=True)\n",
    "# filter out the lines from the \n",
    "df = df[~pd.isna(df[\"pr\"])]\n"
   ]
  },
  {
   "cell_type": "code",
   "execution_count": 54,
   "metadata": {},
   "outputs": [
    {
     "name": "stdout",
     "output_type": "stream",
     "text": [
      "                        ts                   te       td                   sa  \\\n",
      "0      2018-10-26 06:00:25  2018-10-26 06:04:35  250.011          192.168.1.1   \n",
      "1      2018-10-26 06:04:36  2018-10-26 06:04:36    0.097        192.168.1.119   \n",
      "2      2018-10-26 05:55:49  2018-10-26 06:00:20  270.818       74.125.200.188   \n",
      "3      2018-10-26 05:59:26  2018-10-26 05:59:29    2.859       174.129.217.97   \n",
      "4      2018-10-26 06:02:20  2018-10-26 06:02:20    0.000        192.168.1.108   \n",
      "...                    ...                  ...      ...                  ...   \n",
      "99311  2018-10-26 06:28:34  2018-10-26 06:28:41    6.694       174.129.217.97   \n",
      "99312  2018-10-26 06:26:37  2018-10-26 06:26:37    0.000        192.168.1.119   \n",
      "99313  2018-10-26 06:26:41  2018-10-26 06:26:41    0.042  fdc1:1bdc:1e84::911   \n",
      "99314  2018-10-26 06:26:37  2018-10-26 06:26:37    0.008        192.168.1.129   \n",
      "99315  2018-10-26 06:23:56  2018-10-26 06:28:26  269.997        192.168.1.118   \n",
      "\n",
      "                      da     sp       dp    pr       flg  fwd  ...  mpls10  \\\n",
      "0          192.168.1.119      0      0.0  ICMP  ........  0.0  ...   0-0-0   \n",
      "1                8.8.8.8  36258     53.0   UDP  ........  0.0  ...   0-0-0   \n",
      "2          192.168.1.192   5228  34488.0   TCP  ...A....  0.0  ...   0-0-0   \n",
      "3          192.168.1.165   3478   3902.0   TCP  ...AP.SF  0.0  ...   0-0-0   \n",
      "4         13.251.225.193  30722   8089.0   UDP  ........  0.0  ...   0-0-0   \n",
      "...                  ...    ...      ...   ...       ...  ...  ...     ...   \n",
      "99311      192.168.1.165   3478   4159.0   TCP  ...AP.SF  0.0  ...   0-0-0   \n",
      "99312      192.168.1.245  57190  51964.0   UDP  ........  0.0  ...   0-0-0   \n",
      "99313  fdc1:1bdc:1e84::1  65240     53.0   UDP  ........  0.0  ...   0-0-0   \n",
      "99314      192.168.1.245     80  41461.0   TCP  ...AP.SF  0.0  ...   0-0-0   \n",
      "99315      192.168.1.255  56700  56700.0   UDP  ........  0.0  ...   0-0-0   \n",
      "\n",
      "              cl        sl       al       ra  eng  exid  \\\n",
      "0          0.000     0.000    0.000  0.0.0.0  0/0   0.0   \n",
      "1          0.000     0.000    0.000  0.0.0.0  0/0   0.0   \n",
      "2      45027.066    93.286   93.332  0.0.0.0  0/0   0.0   \n",
      "3          3.785   208.007  210.278  0.0.0.0  0/0   0.0   \n",
      "4          0.000     0.000    0.000  0.0.0.0  0/0   0.0   \n",
      "...          ...       ...      ...      ...  ...   ...   \n",
      "99311      0.918  3207.855  210.362  0.0.0.0  0/0   0.0   \n",
      "99312      0.000     0.000    0.000  0.0.0.0  0/0   0.0   \n",
      "99313      0.000     0.000    0.000  0.0.0.0  0/0   0.0   \n",
      "99314      1.095     0.292    0.273  0.0.0.0  0/0   0.0   \n",
      "99315      0.000     0.000    0.000  0.0.0.0  0/0   0.0   \n",
      "\n",
      "                            tr      src_ip_remapped    dst_ip_remapped  \n",
      "0      1969-12-31 18:00:00.000        192.168.10.10      192.168.1.119  \n",
      "1      1969-12-31 18:00:00.000        192.168.1.119            8.8.8.8  \n",
      "2      1969-12-31 18:00:00.000       74.125.200.188      192.168.1.192  \n",
      "3      1969-12-31 18:00:00.000       174.129.217.97      192.168.1.165  \n",
      "4      1969-12-31 18:00:00.000        192.168.1.108     13.251.225.193  \n",
      "...                        ...                  ...                ...  \n",
      "99311  1969-12-31 18:00:00.000       174.129.217.97      192.168.1.165  \n",
      "99312  1969-12-31 18:00:00.000        192.168.1.119      192.168.1.245  \n",
      "99313  1969-12-31 18:00:00.000  fdc1:1bdc:1e84::911  fdc1:1bdc:1e84::1  \n",
      "99314  1969-12-31 18:00:00.000        192.168.1.129      192.168.1.245  \n",
      "99315  1969-12-31 18:00:00.000        192.168.1.118      192.168.1.255  \n",
      "\n",
      "[98455 rows x 50 columns]\n"
     ]
    }
   ],
   "source": [
    "print(df)"
   ]
  },
  {
   "cell_type": "code",
   "execution_count": 64,
   "metadata": {},
   "outputs": [
    {
     "name": "stdout",
     "output_type": "stream",
     "text": [
      "       st_timestamp                   ts\n",
      "0     1540551625.00  2018-10-26 06:00:25\n",
      "1     1540551876.00  2018-10-26 06:04:36\n",
      "2     1540551349.00  2018-10-26 05:55:49\n",
      "3     1540551566.00  2018-10-26 05:59:26\n",
      "4     1540551740.00  2018-10-26 06:02:20\n",
      "...             ...                  ...\n",
      "99311 1540553314.00  2018-10-26 06:28:34\n",
      "99312 1540553197.00  2018-10-26 06:26:37\n",
      "99313 1540553201.00  2018-10-26 06:26:41\n",
      "99314 1540553197.00  2018-10-26 06:26:37\n",
      "99315 1540553036.00  2018-10-26 06:23:56\n",
      "\n",
      "[98455 rows x 2 columns]\n"
     ]
    }
   ],
   "source": [
    "def getTimestamp(time_str):\n",
    "    return time.mktime(datetime.datetime.strptime(time_str, \"%Y-%m-%d %H:%M:%S\").timetuple())\n",
    "    \n",
    "df['st_timestamp'] = df['ts'].apply(getTimestamp)\n",
    "df['et_timestamp'] = df['te'].apply(getTimestamp)"
   ]
  },
  {
   "cell_type": "code",
   "execution_count": 77,
   "metadata": {},
   "outputs": [
    {
     "name": "stdout",
     "output_type": "stream",
     "text": [
      "[['ec:1a:59:83:28:11', '192.168.1.165', 'WEMO Motion Sensor', 'ec1a59832811.csv'], ['ec:1a:59:79:f4:89', '192.168.1.223', 'WEMO Power Switch', 'ec1a5979f489.csv'], ['00:16:6c:ab:6b:88', '192.168.1.248', 'Samsung Camera', '00166cab6b88.csv'], ['50:c7:bf:00:56:39', '192.168.1.227', 'TP Link Plug', '50c7bf005639.csv'], ['70:ee:50:18:34:43', '192.168.1.241', 'Netatmo Camera', '70ee50183443.csv'], ['00:17:88:2B:9A:25', '192.168.1.129', 'Huebulb', '0017882B9A25.csv'], ['44:65:0D:56:CC:D3', '192.168.1.239', 'AmazonEcho', '44650D56CCD3.csv'], ['F4:F5:D8:8F:0A:3C', '192.168.1.119', 'chromecast', 'F4F5D88F0A3C.csv'], ['74:C6:3B:29:D7:1D', '192.168.1.163', 'ihome', '74C63B29D71D.csv'], ['D0:73:D5:01:83:08', '192.168.1.118', 'lifx', 'D073D5018308.csv']]\n"
     ]
    }
   ],
   "source": [
    "df_mac2ip = pd.read_csv('data/iot_mac2ip.csv', sep='\\t')\n",
    "df_mac2ip['fname'] = df_mac2ip['MAC'].apply(lambda x: x.replace(':', '') + '.csv')\n",
    "mac2ip_list = df_mac2ip.values.tolist()\n",
    "dfTemp = df\n",
    "dfTemp['flowTag'] = \"\""
   ]
  },
  {
   "cell_type": "code",
   "execution_count": 88,
   "metadata": {},
   "outputs": [
    {
     "name": "stdout",
     "output_type": "stream",
     "text": [
      "../data/annotations/ec1a59832811.csv\n",
      "../data/annotations/ec1a5979f489.csv\n",
      "../data/annotations/00166cab6b88.csv\n",
      "../data/annotations/50c7bf005639.csv\n",
      "../data/annotations/70ee50183443.csv\n",
      "../data/annotations/0017882B9A25.csv\n",
      "../data/annotations/44650D56CCD3.csv\n",
      "../data/annotations/F4F5D88F0A3C.csv\n",
      "../data/annotations/74C63B29D71D.csv\n",
      "../data/annotations/D073D5018308.csv\n"
     ]
    }
   ],
   "source": [
    "for i in range(0, len(mac2ip_list)):\n",
    "    fname = '../data/annotations/' + mac2ip_list[i][3]\n",
    "    ip_addr = mac2ip_list[i][1]\n",
    "    print(fname)\n",
    "    df_annotation = pd.read_csv(fname)\n",
    "    l = df_annotation.values.tolist()\n",
    "    for i in range(0, len(l)):\n",
    "        v = l[i]\n",
    "        (st, et) = (v[0], v[1])\n",
    "        tag = v[2]\n",
    "        dfTemp['flowTag'].loc[(df['st_timestamp'] >= st) & (df['st_timestamp'] < et) & ((df['sa'] == ip_addr) | (df['da'] == ip_addr)) ] = tag\n",
    "\n",
    "    \n"
   ]
  },
  {
   "cell_type": "code",
   "execution_count": 89,
   "metadata": {},
   "outputs": [
    {
     "name": "stdout",
     "output_type": "stream",
     "text": [
      "Series([], Name: flowTag, dtype: object)\n"
     ]
    }
   ],
   "source": [
    "print(dfTemp[dfTemp['flowTag'] != '']['flowTag'])"
   ]
  },
  {
   "cell_type": "code",
   "execution_count": 71,
   "metadata": {},
   "outputs": [
    {
     "name": "stderr",
     "output_type": "stream",
     "text": [
      "/usr/local/lib/python3.8/site-packages/pandas/core/indexing.py:670: SettingWithCopyWarning: \n",
      "A value is trying to be set on a copy of a slice from a DataFrame\n",
      "\n",
      "See the caveats in the documentation: https://pandas.pydata.org/pandas-docs/stable/user_guide/indexing.html#returning-a-view-versus-a-copy\n",
      "  iloc._setitem_with_indexer(indexer, value)\n",
      "/usr/local/lib/python3.8/site-packages/pandas/core/indexing.py:670: SettingWithCopyWarning: \n",
      "A value is trying to be set on a copy of a slice from a DataFrame\n",
      "\n",
      "See the caveats in the documentation: https://pandas.pydata.org/pandas-docs/stable/user_guide/indexing.html#returning-a-view-versus-a-copy\n",
      "  iloc._setitem_with_indexer(indexer, value)\n",
      "/usr/local/lib/python3.8/site-packages/pandas/core/indexing.py:670: SettingWithCopyWarning: \n",
      "A value is trying to be set on a copy of a slice from a DataFrame\n",
      "\n",
      "See the caveats in the documentation: https://pandas.pydata.org/pandas-docs/stable/user_guide/indexing.html#returning-a-view-versus-a-copy\n",
      "  iloc._setitem_with_indexer(indexer, value)\n",
      "/usr/local/lib/python3.8/site-packages/pandas/core/indexing.py:670: SettingWithCopyWarning: \n",
      "A value is trying to be set on a copy of a slice from a DataFrame\n",
      "\n",
      "See the caveats in the documentation: https://pandas.pydata.org/pandas-docs/stable/user_guide/indexing.html#returning-a-view-versus-a-copy\n",
      "  iloc._setitem_with_indexer(indexer, value)\n",
      "/usr/local/lib/python3.8/site-packages/pandas/core/indexing.py:670: SettingWithCopyWarning: \n",
      "A value is trying to be set on a copy of a slice from a DataFrame\n",
      "\n",
      "See the caveats in the documentation: https://pandas.pydata.org/pandas-docs/stable/user_guide/indexing.html#returning-a-view-versus-a-copy\n",
      "  iloc._setitem_with_indexer(indexer, value)\n",
      "/usr/local/lib/python3.8/site-packages/pandas/core/indexing.py:670: SettingWithCopyWarning: \n",
      "A value is trying to be set on a copy of a slice from a DataFrame\n",
      "\n",
      "See the caveats in the documentation: https://pandas.pydata.org/pandas-docs/stable/user_guide/indexing.html#returning-a-view-versus-a-copy\n",
      "  iloc._setitem_with_indexer(indexer, value)\n",
      "/usr/local/lib/python3.8/site-packages/pandas/core/indexing.py:670: SettingWithCopyWarning: \n",
      "A value is trying to be set on a copy of a slice from a DataFrame\n",
      "\n",
      "See the caveats in the documentation: https://pandas.pydata.org/pandas-docs/stable/user_guide/indexing.html#returning-a-view-versus-a-copy\n",
      "  iloc._setitem_with_indexer(indexer, value)\n",
      "/usr/local/lib/python3.8/site-packages/pandas/core/indexing.py:670: SettingWithCopyWarning: \n",
      "A value is trying to be set on a copy of a slice from a DataFrame\n",
      "\n",
      "See the caveats in the documentation: https://pandas.pydata.org/pandas-docs/stable/user_guide/indexing.html#returning-a-view-versus-a-copy\n",
      "  iloc._setitem_with_indexer(indexer, value)\n",
      "/usr/local/lib/python3.8/site-packages/pandas/core/indexing.py:670: SettingWithCopyWarning: \n",
      "A value is trying to be set on a copy of a slice from a DataFrame\n",
      "\n",
      "See the caveats in the documentation: https://pandas.pydata.org/pandas-docs/stable/user_guide/indexing.html#returning-a-view-versus-a-copy\n",
      "  iloc._setitem_with_indexer(indexer, value)\n",
      "/usr/local/lib/python3.8/site-packages/pandas/core/indexing.py:670: SettingWithCopyWarning: \n",
      "A value is trying to be set on a copy of a slice from a DataFrame\n",
      "\n",
      "See the caveats in the documentation: https://pandas.pydata.org/pandas-docs/stable/user_guide/indexing.html#returning-a-view-versus-a-copy\n",
      "  iloc._setitem_with_indexer(indexer, value)\n",
      "/usr/local/lib/python3.8/site-packages/pandas/core/indexing.py:670: SettingWithCopyWarning: \n",
      "A value is trying to be set on a copy of a slice from a DataFrame\n",
      "\n",
      "See the caveats in the documentation: https://pandas.pydata.org/pandas-docs/stable/user_guide/indexing.html#returning-a-view-versus-a-copy\n",
      "  iloc._setitem_with_indexer(indexer, value)\n",
      "/usr/local/lib/python3.8/site-packages/pandas/core/indexing.py:670: SettingWithCopyWarning: \n",
      "A value is trying to be set on a copy of a slice from a DataFrame\n",
      "\n",
      "See the caveats in the documentation: https://pandas.pydata.org/pandas-docs/stable/user_guide/indexing.html#returning-a-view-versus-a-copy\n",
      "  iloc._setitem_with_indexer(indexer, value)\n",
      "/usr/local/lib/python3.8/site-packages/pandas/core/indexing.py:670: SettingWithCopyWarning: \n",
      "A value is trying to be set on a copy of a slice from a DataFrame\n",
      "\n",
      "See the caveats in the documentation: https://pandas.pydata.org/pandas-docs/stable/user_guide/indexing.html#returning-a-view-versus-a-copy\n",
      "  iloc._setitem_with_indexer(indexer, value)\n",
      "/usr/local/lib/python3.8/site-packages/pandas/core/indexing.py:670: SettingWithCopyWarning: \n",
      "A value is trying to be set on a copy of a slice from a DataFrame\n",
      "\n",
      "See the caveats in the documentation: https://pandas.pydata.org/pandas-docs/stable/user_guide/indexing.html#returning-a-view-versus-a-copy\n",
      "  iloc._setitem_with_indexer(indexer, value)\n",
      "/usr/local/lib/python3.8/site-packages/pandas/core/indexing.py:670: SettingWithCopyWarning: \n",
      "A value is trying to be set on a copy of a slice from a DataFrame\n",
      "\n",
      "See the caveats in the documentation: https://pandas.pydata.org/pandas-docs/stable/user_guide/indexing.html#returning-a-view-versus-a-copy\n",
      "  iloc._setitem_with_indexer(indexer, value)\n",
      "/usr/local/lib/python3.8/site-packages/pandas/core/indexing.py:670: SettingWithCopyWarning: \n",
      "A value is trying to be set on a copy of a slice from a DataFrame\n",
      "\n",
      "See the caveats in the documentation: https://pandas.pydata.org/pandas-docs/stable/user_guide/indexing.html#returning-a-view-versus-a-copy\n",
      "  iloc._setitem_with_indexer(indexer, value)\n",
      "/usr/local/lib/python3.8/site-packages/pandas/core/indexing.py:670: SettingWithCopyWarning: \n",
      "A value is trying to be set on a copy of a slice from a DataFrame\n",
      "\n",
      "See the caveats in the documentation: https://pandas.pydata.org/pandas-docs/stable/user_guide/indexing.html#returning-a-view-versus-a-copy\n",
      "  iloc._setitem_with_indexer(indexer, value)\n",
      "/usr/local/lib/python3.8/site-packages/pandas/core/indexing.py:670: SettingWithCopyWarning: \n",
      "A value is trying to be set on a copy of a slice from a DataFrame\n",
      "\n",
      "See the caveats in the documentation: https://pandas.pydata.org/pandas-docs/stable/user_guide/indexing.html#returning-a-view-versus-a-copy\n",
      "  iloc._setitem_with_indexer(indexer, value)\n",
      "/usr/local/lib/python3.8/site-packages/pandas/core/indexing.py:670: SettingWithCopyWarning: \n",
      "A value is trying to be set on a copy of a slice from a DataFrame\n",
      "\n",
      "See the caveats in the documentation: https://pandas.pydata.org/pandas-docs/stable/user_guide/indexing.html#returning-a-view-versus-a-copy\n",
      "  iloc._setitem_with_indexer(indexer, value)\n",
      "/usr/local/lib/python3.8/site-packages/pandas/core/indexing.py:670: SettingWithCopyWarning: \n",
      "A value is trying to be set on a copy of a slice from a DataFrame\n",
      "\n",
      "See the caveats in the documentation: https://pandas.pydata.org/pandas-docs/stable/user_guide/indexing.html#returning-a-view-versus-a-copy\n",
      "  iloc._setitem_with_indexer(indexer, value)\n",
      "/usr/local/lib/python3.8/site-packages/pandas/core/indexing.py:670: SettingWithCopyWarning: \n",
      "A value is trying to be set on a copy of a slice from a DataFrame\n",
      "\n",
      "See the caveats in the documentation: https://pandas.pydata.org/pandas-docs/stable/user_guide/indexing.html#returning-a-view-versus-a-copy\n",
      "  iloc._setitem_with_indexer(indexer, value)\n",
      "/usr/local/lib/python3.8/site-packages/pandas/core/indexing.py:670: SettingWithCopyWarning: \n",
      "A value is trying to be set on a copy of a slice from a DataFrame\n",
      "\n",
      "See the caveats in the documentation: https://pandas.pydata.org/pandas-docs/stable/user_guide/indexing.html#returning-a-view-versus-a-copy\n",
      "  iloc._setitem_with_indexer(indexer, value)\n",
      "/usr/local/lib/python3.8/site-packages/pandas/core/indexing.py:670: SettingWithCopyWarning: \n",
      "A value is trying to be set on a copy of a slice from a DataFrame\n",
      "\n",
      "See the caveats in the documentation: https://pandas.pydata.org/pandas-docs/stable/user_guide/indexing.html#returning-a-view-versus-a-copy\n",
      "  iloc._setitem_with_indexer(indexer, value)\n",
      "/usr/local/lib/python3.8/site-packages/pandas/core/indexing.py:670: SettingWithCopyWarning: \n",
      "A value is trying to be set on a copy of a slice from a DataFrame\n",
      "\n",
      "See the caveats in the documentation: https://pandas.pydata.org/pandas-docs/stable/user_guide/indexing.html#returning-a-view-versus-a-copy\n",
      "  iloc._setitem_with_indexer(indexer, value)\n",
      "/usr/local/lib/python3.8/site-packages/pandas/core/indexing.py:670: SettingWithCopyWarning: \n",
      "A value is trying to be set on a copy of a slice from a DataFrame\n",
      "\n",
      "See the caveats in the documentation: https://pandas.pydata.org/pandas-docs/stable/user_guide/indexing.html#returning-a-view-versus-a-copy\n",
      "  iloc._setitem_with_indexer(indexer, value)\n",
      "/usr/local/lib/python3.8/site-packages/pandas/core/indexing.py:670: SettingWithCopyWarning: \n",
      "A value is trying to be set on a copy of a slice from a DataFrame\n",
      "\n",
      "See the caveats in the documentation: https://pandas.pydata.org/pandas-docs/stable/user_guide/indexing.html#returning-a-view-versus-a-copy\n",
      "  iloc._setitem_with_indexer(indexer, value)\n",
      "/usr/local/lib/python3.8/site-packages/pandas/core/indexing.py:670: SettingWithCopyWarning: \n",
      "A value is trying to be set on a copy of a slice from a DataFrame\n",
      "\n",
      "See the caveats in the documentation: https://pandas.pydata.org/pandas-docs/stable/user_guide/indexing.html#returning-a-view-versus-a-copy\n",
      "  iloc._setitem_with_indexer(indexer, value)\n",
      "/usr/local/lib/python3.8/site-packages/pandas/core/indexing.py:670: SettingWithCopyWarning: \n",
      "A value is trying to be set on a copy of a slice from a DataFrame\n",
      "\n",
      "See the caveats in the documentation: https://pandas.pydata.org/pandas-docs/stable/user_guide/indexing.html#returning-a-view-versus-a-copy\n",
      "  iloc._setitem_with_indexer(indexer, value)\n",
      "/usr/local/lib/python3.8/site-packages/pandas/core/indexing.py:670: SettingWithCopyWarning: \n",
      "A value is trying to be set on a copy of a slice from a DataFrame\n",
      "\n",
      "See the caveats in the documentation: https://pandas.pydata.org/pandas-docs/stable/user_guide/indexing.html#returning-a-view-versus-a-copy\n",
      "  iloc._setitem_with_indexer(indexer, value)\n",
      "/usr/local/lib/python3.8/site-packages/pandas/core/indexing.py:670: SettingWithCopyWarning: \n",
      "A value is trying to be set on a copy of a slice from a DataFrame\n",
      "\n",
      "See the caveats in the documentation: https://pandas.pydata.org/pandas-docs/stable/user_guide/indexing.html#returning-a-view-versus-a-copy\n",
      "  iloc._setitem_with_indexer(indexer, value)\n",
      "/usr/local/lib/python3.8/site-packages/pandas/core/indexing.py:670: SettingWithCopyWarning: \n",
      "A value is trying to be set on a copy of a slice from a DataFrame\n",
      "\n",
      "See the caveats in the documentation: https://pandas.pydata.org/pandas-docs/stable/user_guide/indexing.html#returning-a-view-versus-a-copy\n",
      "  iloc._setitem_with_indexer(indexer, value)\n",
      "/usr/local/lib/python3.8/site-packages/pandas/core/indexing.py:670: SettingWithCopyWarning: \n",
      "A value is trying to be set on a copy of a slice from a DataFrame\n",
      "\n",
      "See the caveats in the documentation: https://pandas.pydata.org/pandas-docs/stable/user_guide/indexing.html#returning-a-view-versus-a-copy\n",
      "  iloc._setitem_with_indexer(indexer, value)\n",
      "/usr/local/lib/python3.8/site-packages/pandas/core/indexing.py:670: SettingWithCopyWarning: \n",
      "A value is trying to be set on a copy of a slice from a DataFrame\n",
      "\n",
      "See the caveats in the documentation: https://pandas.pydata.org/pandas-docs/stable/user_guide/indexing.html#returning-a-view-versus-a-copy\n",
      "  iloc._setitem_with_indexer(indexer, value)\n",
      "/usr/local/lib/python3.8/site-packages/pandas/core/indexing.py:670: SettingWithCopyWarning: \n",
      "A value is trying to be set on a copy of a slice from a DataFrame\n",
      "\n",
      "See the caveats in the documentation: https://pandas.pydata.org/pandas-docs/stable/user_guide/indexing.html#returning-a-view-versus-a-copy\n",
      "  iloc._setitem_with_indexer(indexer, value)\n",
      "/usr/local/lib/python3.8/site-packages/pandas/core/indexing.py:670: SettingWithCopyWarning: \n",
      "A value is trying to be set on a copy of a slice from a DataFrame\n",
      "\n",
      "See the caveats in the documentation: https://pandas.pydata.org/pandas-docs/stable/user_guide/indexing.html#returning-a-view-versus-a-copy\n",
      "  iloc._setitem_with_indexer(indexer, value)\n",
      "/usr/local/lib/python3.8/site-packages/pandas/core/indexing.py:670: SettingWithCopyWarning: \n",
      "A value is trying to be set on a copy of a slice from a DataFrame\n",
      "\n",
      "See the caveats in the documentation: https://pandas.pydata.org/pandas-docs/stable/user_guide/indexing.html#returning-a-view-versus-a-copy\n",
      "  iloc._setitem_with_indexer(indexer, value)\n",
      "/usr/local/lib/python3.8/site-packages/pandas/core/indexing.py:670: SettingWithCopyWarning: \n",
      "A value is trying to be set on a copy of a slice from a DataFrame\n",
      "\n",
      "See the caveats in the documentation: https://pandas.pydata.org/pandas-docs/stable/user_guide/indexing.html#returning-a-view-versus-a-copy\n",
      "  iloc._setitem_with_indexer(indexer, value)\n",
      "/usr/local/lib/python3.8/site-packages/pandas/core/indexing.py:670: SettingWithCopyWarning: \n",
      "A value is trying to be set on a copy of a slice from a DataFrame\n",
      "\n",
      "See the caveats in the documentation: https://pandas.pydata.org/pandas-docs/stable/user_guide/indexing.html#returning-a-view-versus-a-copy\n",
      "  iloc._setitem_with_indexer(indexer, value)\n",
      "/usr/local/lib/python3.8/site-packages/pandas/core/indexing.py:670: SettingWithCopyWarning: \n",
      "A value is trying to be set on a copy of a slice from a DataFrame\n",
      "\n",
      "See the caveats in the documentation: https://pandas.pydata.org/pandas-docs/stable/user_guide/indexing.html#returning-a-view-versus-a-copy\n",
      "  iloc._setitem_with_indexer(indexer, value)\n",
      "/usr/local/lib/python3.8/site-packages/pandas/core/indexing.py:670: SettingWithCopyWarning: \n",
      "A value is trying to be set on a copy of a slice from a DataFrame\n",
      "\n",
      "See the caveats in the documentation: https://pandas.pydata.org/pandas-docs/stable/user_guide/indexing.html#returning-a-view-versus-a-copy\n",
      "  iloc._setitem_with_indexer(indexer, value)\n",
      "/usr/local/lib/python3.8/site-packages/pandas/core/indexing.py:670: SettingWithCopyWarning: \n",
      "A value is trying to be set on a copy of a slice from a DataFrame\n",
      "\n",
      "See the caveats in the documentation: https://pandas.pydata.org/pandas-docs/stable/user_guide/indexing.html#returning-a-view-versus-a-copy\n",
      "  iloc._setitem_with_indexer(indexer, value)\n",
      "/usr/local/lib/python3.8/site-packages/pandas/core/indexing.py:670: SettingWithCopyWarning: \n",
      "A value is trying to be set on a copy of a slice from a DataFrame\n",
      "\n",
      "See the caveats in the documentation: https://pandas.pydata.org/pandas-docs/stable/user_guide/indexing.html#returning-a-view-versus-a-copy\n",
      "  iloc._setitem_with_indexer(indexer, value)\n"
     ]
    }
   ],
   "source": [
    "\n"
   ]
  },
  {
   "cell_type": "code",
   "execution_count": 73,
   "metadata": {},
   "outputs": [
    {
     "data": {
      "text/plain": [
       "Series([], Name: flowTag, dtype: object)"
      ]
     },
     "execution_count": 73,
     "metadata": {},
     "output_type": "execute_result"
    }
   ],
   "source": [
    "dfTemp[dfTemp['flowTag'] != '']['flowTag']"
   ]
  },
  {
   "cell_type": "code",
   "execution_count": 20,
   "metadata": {},
   "outputs": [],
   "source": [
    "ips_to_remap_list = [\"192.168.1.1\", \"192.168.1.2\"]\n",
    "ips_to_remap_dict = dict.fromkeys(ips_to_remap_list, 1)"
   ]
  },
  {
   "cell_type": "code",
   "execution_count": null,
   "metadata": {},
   "outputs": [],
   "source": []
  },
  {
   "cell_type": "code",
   "execution_count": 38,
   "metadata": {},
   "outputs": [
    {
     "name": "stdout",
     "output_type": "stream",
     "text": [
      "                        ts                   te       td                   sa  \\\n",
      "0      2018-10-26 06:00:25  2018-10-26 06:04:35  250.011          192.168.1.1   \n",
      "1      2018-10-26 06:04:36  2018-10-26 06:04:36    0.097        192.168.1.119   \n",
      "2      2018-10-26 05:55:49  2018-10-26 06:00:20  270.818       74.125.200.188   \n",
      "3      2018-10-26 05:59:26  2018-10-26 05:59:29    2.859       174.129.217.97   \n",
      "4      2018-10-26 06:02:20  2018-10-26 06:02:20    0.000        192.168.1.108   \n",
      "...                    ...                  ...      ...                  ...   \n",
      "99311  2018-10-26 06:28:34  2018-10-26 06:28:41    6.694       174.129.217.97   \n",
      "99312  2018-10-26 06:26:37  2018-10-26 06:26:37    0.000        192.168.1.119   \n",
      "99313  2018-10-26 06:26:41  2018-10-26 06:26:41    0.042  fdc1:1bdc:1e84::911   \n",
      "99314  2018-10-26 06:26:37  2018-10-26 06:26:37    0.008        192.168.1.129   \n",
      "99315  2018-10-26 06:23:56  2018-10-26 06:28:26  269.997        192.168.1.118   \n",
      "\n",
      "                      da     sp       dp    pr       flg  fwd  ...  mpls8  \\\n",
      "0          192.168.1.119      0      0.0  ICMP  ........  0.0  ...  0-0-0   \n",
      "1                8.8.8.8  36258     53.0   UDP  ........  0.0  ...  0-0-0   \n",
      "2          192.168.1.192   5228  34488.0   TCP  ...A....  0.0  ...  0-0-0   \n",
      "3          192.168.1.165   3478   3902.0   TCP  ...AP.SF  0.0  ...  0-0-0   \n",
      "4         13.251.225.193  30722   8089.0   UDP  ........  0.0  ...  0-0-0   \n",
      "...                  ...    ...      ...   ...       ...  ...  ...    ...   \n",
      "99311      192.168.1.165   3478   4159.0   TCP  ...AP.SF  0.0  ...  0-0-0   \n",
      "99312      192.168.1.245  57190  51964.0   UDP  ........  0.0  ...  0-0-0   \n",
      "99313  fdc1:1bdc:1e84::1  65240     53.0   UDP  ........  0.0  ...  0-0-0   \n",
      "99314      192.168.1.245     80  41461.0   TCP  ...AP.SF  0.0  ...  0-0-0   \n",
      "99315      192.168.1.255  56700  56700.0   UDP  ........  0.0  ...  0-0-0   \n",
      "\n",
      "       mpls9  mpls10         cl        sl       al       ra  eng  exid  \\\n",
      "0      0-0-0   0-0-0      0.000     0.000    0.000  0.0.0.0  0/0   0.0   \n",
      "1      0-0-0   0-0-0      0.000     0.000    0.000  0.0.0.0  0/0   0.0   \n",
      "2      0-0-0   0-0-0  45027.066    93.286   93.332  0.0.0.0  0/0   0.0   \n",
      "3      0-0-0   0-0-0      3.785   208.007  210.278  0.0.0.0  0/0   0.0   \n",
      "4      0-0-0   0-0-0      0.000     0.000    0.000  0.0.0.0  0/0   0.0   \n",
      "...      ...     ...        ...       ...      ...      ...  ...   ...   \n",
      "99311  0-0-0   0-0-0      0.918  3207.855  210.362  0.0.0.0  0/0   0.0   \n",
      "99312  0-0-0   0-0-0      0.000     0.000    0.000  0.0.0.0  0/0   0.0   \n",
      "99313  0-0-0   0-0-0      0.000     0.000    0.000  0.0.0.0  0/0   0.0   \n",
      "99314  0-0-0   0-0-0      1.095     0.292    0.273  0.0.0.0  0/0   0.0   \n",
      "99315  0-0-0   0-0-0      0.000     0.000    0.000  0.0.0.0  0/0   0.0   \n",
      "\n",
      "                            tr  \n",
      "0      1969-12-31 18:00:00.000  \n",
      "1      1969-12-31 18:00:00.000  \n",
      "2      1969-12-31 18:00:00.000  \n",
      "3      1969-12-31 18:00:00.000  \n",
      "4      1969-12-31 18:00:00.000  \n",
      "...                        ...  \n",
      "99311  1969-12-31 18:00:00.000  \n",
      "99312  1969-12-31 18:00:00.000  \n",
      "99313  1969-12-31 18:00:00.000  \n",
      "99314  1969-12-31 18:00:00.000  \n",
      "99315  1969-12-31 18:00:00.000  \n",
      "\n",
      "[98455 rows x 48 columns]\n"
     ]
    }
   ],
   "source": [
    "## try with the brute-force attack"
   ]
  },
  {
   "cell_type": "code",
   "execution_count": 41,
   "metadata": {},
   "outputs": [],
   "source": [
    "#gets a list of IP addresses to remap \n",
    "def get_ip_pool(fname):\n",
    "    df = pd.read_csv(fname, header=0)\n",
    "    ip_list = list(df[\"ip\"])\n",
    "    return ip_list\n",
    "\n",
    "ip_list = get_ip_pool(\"data/ip_list.csv\")\n",
    "last_remap_idx = 0\n",
    "len_ip_list = len(ip_order_list)\n",
    "flow_map = {}\n",
    "\n",
    "# remap the IP address. Don't parallelize the function\n",
    "def remap_ip(x, field_name):\n",
    "    src_ip, src_port, dst_ip, dst_port = (x[\"sa\"], x[\"sp\"], x[\"da\"], x[\"dp\"])\n",
    "    ip_to_map = src_ip\n",
    "    if field_name == \"da\":\n",
    "        ip_to_map = dst_ip\n",
    "    \n",
    "    global last_remap_idx, flow_map\n",
    "    flow_tuple = (src_ip, src_port, dst_ip, dst_port)\n",
    "    if ip_to_map in ips_to_remap_dict:\n",
    "        if flow_tuple in flow_map:\n",
    "            ip_to_map = flow_map[flow_tuple]\n",
    "        else:\n",
    "            ip_to_map = ip_list[last_remap_idx % len_ip_list]\n",
    "            flow_map[flow_tuple] = ip_to_map\n",
    "            last_remap_idx += 1\n",
    "    return ip_to_map"
   ]
  },
  {
   "cell_type": "code",
   "execution_count": 42,
   "metadata": {},
   "outputs": [
    {
     "name": "stdout",
     "output_type": "stream",
     "text": [
      "[['2018-10-26 06:00:25', '2018-10-26 06:04:35', '250.011', '192.168.1.1', '192.168.1.119', '0', 0.0, 'ICMP', '........', 0.0, 0.0, 10.0, 560.0, 0.0, 0.0, 0.0, 0.0, 0.0, 0.0, 0.0, 0.0, 0.0, 0.0, '0.0.0.0', '0.0.0.0', 0.0, 0.0, '00:00:00:00:00:00', '00:00:00:00:00:00', '00:00:00:00:00:00', '00:00:00:00:00:00', '0-0-0', '0-0-0', '0-0-0', '0-0-0', '0-0-0', '0-0-0', '0-0-0', '0-0-0', '0-0-0', '0-0-0', 0.0, 0.0, 0.0, '0.0.0.0', '0/0', 0.0, '1969-12-31 18:00:00.000', '192.168.10.10', '192.168.1.119'], ['2018-10-26 06:04:36', '2018-10-26 06:04:36', '0.097', '192.168.1.119', '8.8.8.8', '36258', 53.0, 'UDP', '........', 0.0, 0.0, 1.0, 32.0, 1.0, 48.0, 0.0, 0.0, 0.0, 0.0, 0.0, 0.0, 0.0, 0.0, '0.0.0.0', '0.0.0.0', 0.0, 0.0, '00:00:00:00:00:00', '00:00:00:00:00:00', '00:00:00:00:00:00', '00:00:00:00:00:00', '0-0-0', '0-0-0', '0-0-0', '0-0-0', '0-0-0', '0-0-0', '0-0-0', '0-0-0', '0-0-0', '0-0-0', 0.0, 0.0, 0.0, '0.0.0.0', '0/0', 0.0, '1969-12-31 18:00:00.000', '192.168.1.119', '8.8.8.8'], ['2018-10-26 05:55:49', '2018-10-26 06:00:20', '270.818', '74.125.200.188', '192.168.1.192', '5228', 34488.0, 'TCP', '...A....', 0.0, 0.0, 7.0, 224.0, 7.0, 224.0, 0.0, 0.0, 0.0, 0.0, 0.0, 0.0, 0.0, 0.0, '0.0.0.0', '0.0.0.0', 0.0, 0.0, '00:00:00:00:00:00', '00:00:00:00:00:00', '00:00:00:00:00:00', '00:00:00:00:00:00', '0-0-0', '0-0-0', '0-0-0', '0-0-0', '0-0-0', '0-0-0', '0-0-0', '0-0-0', '0-0-0', '0-0-0', 45027.066, 93.286, 93.33200000000001, '0.0.0.0', '0/0', 0.0, '1969-12-31 18:00:00.000', '74.125.200.188', '192.168.1.192'], ['2018-10-26 05:59:26', '2018-10-26 05:59:29', '2.859', '174.129.217.97', '192.168.1.165', '3478', 3902.0, 'TCP', '...AP.SF', 0.0, 0.0, 5.0, 448.0, 8.0, 468.0, 0.0, 0.0, 0.0, 0.0, 0.0, 0.0, 0.0, 0.0, '0.0.0.0', '0.0.0.0', 0.0, 0.0, '00:00:00:00:00:00', '00:00:00:00:00:00', '00:00:00:00:00:00', '00:00:00:00:00:00', '0-0-0', '0-0-0', '0-0-0', '0-0-0', '0-0-0', '0-0-0', '0-0-0', '0-0-0', '0-0-0', '0-0-0', 3.785, 208.007, 210.278, '0.0.0.0', '0/0', 0.0, '1969-12-31 18:00:00.000', '174.129.217.97', '192.168.1.165'], ['2018-10-26 06:02:20', '2018-10-26 06:02:20', '0.000', '192.168.1.108', '13.251.225.193', '30722', 8089.0, 'UDP', '........', 0.0, 0.0, 1.0, 13.0, 0.0, 0.0, 0.0, 0.0, 0.0, 0.0, 0.0, 0.0, 0.0, 0.0, '0.0.0.0', '0.0.0.0', 0.0, 0.0, '00:00:00:00:00:00', '00:00:00:00:00:00', '00:00:00:00:00:00', '00:00:00:00:00:00', '0-0-0', '0-0-0', '0-0-0', '0-0-0', '0-0-0', '0-0-0', '0-0-0', '0-0-0', '0-0-0', '0-0-0', 0.0, 0.0, 0.0, '0.0.0.0', '0/0', 0.0, '1969-12-31 18:00:00.000', '192.168.1.108', '13.251.225.193'], ['2018-10-26 06:04:58', '2018-10-26 06:04:58', '0.099', '192.168.1.119', '8.8.8.8', '45680', 53.0, 'UDP', '........', 0.0, 0.0, 1.0, 47.0, 1.0, 63.0, 0.0, 0.0, 0.0, 0.0, 0.0, 0.0, 0.0, 0.0, '0.0.0.0', '0.0.0.0', 0.0, 0.0, '00:00:00:00:00:00', '00:00:00:00:00:00', '00:00:00:00:00:00', '00:00:00:00:00:00', '0-0-0', '0-0-0', '0-0-0', '0-0-0', '0-0-0', '0-0-0', '0-0-0', '0-0-0', '0-0-0', '0-0-0', 0.0, 0.0, 0.0, '0.0.0.0', '0/0', 0.0, '1969-12-31 18:00:00.000', '192.168.1.119', '8.8.8.8'], ['2018-10-26 06:01:58', '2018-10-26 06:02:00', '1.355', '52.35.213.173', '192.168.1.216', '443', 53978.0, 'TCP', '...AP.SF', 0.0, 0.0, 9.0, 2486.0, 13.0, 5420.0, 0.0, 0.0, 0.0, 0.0, 0.0, 0.0, 0.0, 0.0, '0.0.0.0', '0.0.0.0', 0.0, 0.0, '00:00:00:00:00:00', '00:00:00:00:00:00', '00:00:00:00:00:00', '00:00:00:00:00:00', '0-0-0', '0-0-0', '0-0-0', '0-0-0', '0-0-0', '0-0-0', '0-0-0', '0-0-0', '0-0-0', '0-0-0', 5.006, 153.531, 155.069, '0.0.0.0', '0/0', 0.0, '1969-12-31 18:00:00.000', '52.35.213.173', '192.168.1.216'], ['2018-10-26 06:02:52', '2018-10-26 06:03:52', '60.136', '52.5.220.5', '192.168.1.230', '443', 60125.0, 'TCP', '...APRSF', 0.0, 0.0, 13.0, 7069.0, 17.0, 3590.0, 0.0, 0.0, 0.0, 0.0, 0.0, 0.0, 0.0, 0.0, '0.0.0.0', '0.0.0.0', 0.0, 0.0, '00:00:00:00:00:00', '00:00:00:00:00:00', '00:00:00:00:00:00', '00:00:00:00:00:00', '0-0-0', '0-0-0', '0-0-0', '0-0-0', '0-0-0', '0-0-0', '0-0-0', '0-0-0', '0-0-0', '0-0-0', 6.404, 213.167, 254.013, '0.0.0.0', '0/0', 0.0, '1969-12-31 18:00:00.000', '52.5.220.5', '192.168.1.230'], ['2018-10-26 06:03:41', '2018-10-26 06:03:41', '0.016', '192.168.1.165', '192.168.1.245', '4638', 49153.0, 'TCP', '...AP.SF', 0.0, 0.0, 8.0, 447.0, 8.0, 4936.0, 0.0, 0.0, 0.0, 0.0, 0.0, 0.0, 0.0, 0.0, '0.0.0.0', '0.0.0.0', 0.0, 0.0, '00:00:00:00:00:00', '00:00:00:00:00:00', '00:00:00:00:00:00', '00:00:00:00:00:00', '0-0-0', '0-0-0', '0-0-0', '0-0-0', '0-0-0', '0-0-0', '0-0-0', '0-0-0', '0-0-0', '0-0-0', 1.123, 0.872, 1.287, '0.0.0.0', '0/0', 0.0, '1969-12-31 18:00:00.000', '192.168.1.165', '192.168.1.245'], ['2018-10-26 05:59:33', '2018-10-26 05:59:34', '0.025', '192.168.1.129', '192.168.1.245', '80', 39984.0, 'TCP', '...AP.SF', 0.0, 0.0, 5.0, 1171.0, 5.0, 281.0, 0.0, 0.0, 0.0, 0.0, 0.0, 0.0, 0.0, 0.0, '0.0.0.0', '0.0.0.0', 0.0, 0.0, '00:00:00:00:00:00', '00:00:00:00:00:00', '00:00:00:00:00:00', '00:00:00:00:00:00', '0-0-0', '0-0-0', '0-0-0', '0-0-0', '0-0-0', '0-0-0', '0-0-0', '0-0-0', '0-0-0', '0-0-0', 2.989, 3.342, 6.277, '0.0.0.0', '0/0', 0.0, '1969-12-31 18:00:00.000', '192.168.1.129', '192.168.1.245']]\n"
     ]
    }
   ],
   "source": [
    "df[\"src_ip_remapped\"] = df.apply(lambda x: remap_ip(x, 'sa'), axis=1)\n",
    "df[\"dst_ip_remapped\"] = df.apply(lambda x: remap_ip(x, 'da'), axis=1)\n",
    "outdir = \"data/remapped_data/\"\n",
    "df.to_csv(\"data/remapped_data/\")"
   ]
  },
  {
   "cell_type": "code",
   "execution_count": null,
   "metadata": {},
   "outputs": [],
   "source": []
  }
 ],
 "metadata": {
  "kernelspec": {
   "display_name": "Python 3",
   "language": "python",
   "name": "python3"
  },
  "language_info": {
   "codemirror_mode": {
    "name": "ipython",
    "version": 3
   },
   "file_extension": ".py",
   "mimetype": "text/x-python",
   "name": "python",
   "nbconvert_exporter": "python",
   "pygments_lexer": "ipython3",
   "version": "3.8.2"
  }
 },
 "nbformat": 4,
 "nbformat_minor": 4
}
