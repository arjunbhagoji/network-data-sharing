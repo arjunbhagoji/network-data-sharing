{
 "cells": [
  {
   "cell_type": "code",
   "execution_count": 15,
   "id": "indonesian-introduction",
   "metadata": {},
   "outputs": [],
   "source": [
    "import numpy as np\n",
    "import pandas as pd"
   ]
  },
  {
   "cell_type": "markdown",
   "id": "developmental-taxation",
   "metadata": {},
   "source": [
    "## Importing flows"
   ]
  },
  {
   "cell_type": "code",
   "execution_count": null,
   "id": "false-business",
   "metadata": {},
   "outputs": [],
   "source": [
    "Monday=pd.read_csv('../data/CIC-IDS-2017/TrafficLabelling/Monday-WorkingHours.pcap_ISCX.csv',delimiter=',')"
   ]
  },
  {
   "cell_type": "code",
   "execution_count": null,
   "id": "detected-going",
   "metadata": {},
   "outputs": [],
   "source": [
    "Friday_DDoS=pd.read_csv('../data/CIC-IDS-2017/TrafficLabelling/Friday-WorkingHours-Afternoon-DDos.pcap_ISCX.csv',delimiter=',')"
   ]
  },
  {
   "cell_type": "code",
   "execution_count": null,
   "id": "appropriate-vehicle",
   "metadata": {},
   "outputs": [],
   "source": [
    "Monday.columns"
   ]
  },
  {
   "cell_type": "code",
   "execution_count": null,
   "id": "antique-buffalo",
   "metadata": {},
   "outputs": [],
   "source": [
    "timestamps=Friday_DDoS.loc[:,Friday_DDoS.columns[6]]"
   ]
  },
  {
   "cell_type": "code",
   "execution_count": null,
   "id": "annual-plant",
   "metadata": {},
   "outputs": [],
   "source": [
    "timestamps=Friday_DDoS.loc[:,Friday_DDoS.columns[6]]\n",
    "timestamps"
   ]
  },
  {
   "cell_type": "code",
   "execution_count": null,
   "id": "recognized-yeast",
   "metadata": {},
   "outputs": [],
   "source": [
    "flow_durations=Friday_DDoS.loc[:,Friday_DDoS.columns[7]]\n",
    "flow_durations"
   ]
  },
  {
   "cell_type": "markdown",
   "id": "offensive-better",
   "metadata": {},
   "source": [
    "## Loading labels and isolating IPs "
   ]
  },
  {
   "cell_type": "code",
   "execution_count": null,
   "id": "revolutionary-cancellation",
   "metadata": {},
   "outputs": [],
   "source": [
    "labels=A.loc[np.where(labels_np=='DDoS')[0],[A.columns[84]]]"
   ]
  },
  {
   "cell_type": "code",
   "execution_count": null,
   "id": "fallen-party",
   "metadata": {},
   "outputs": [],
   "source": [
    "labels"
   ]
  },
  {
   "cell_type": "code",
   "execution_count": null,
   "id": "catholic-primary",
   "metadata": {},
   "outputs": [],
   "source": [
    "source_ports=A.loc[:,[A.columns[1]]]"
   ]
  },
  {
   "cell_type": "code",
   "execution_count": null,
   "id": "athletic-albany",
   "metadata": {},
   "outputs": [],
   "source": [
    "source_ports.loc[np.where(labels_np=='DDoS')[0]][' Source IP'].unique()"
   ]
  },
  {
   "cell_type": "code",
   "execution_count": null,
   "id": "falling-command",
   "metadata": {},
   "outputs": [],
   "source": [
    "source_ports.loc[np.where(labels_np=='BENIGN')[0]]"
   ]
  },
  {
   "cell_type": "code",
   "execution_count": null,
   "id": "amended-stream",
   "metadata": {},
   "outputs": [],
   "source": [
    "dest_ports=A.loc[:,[A.columns[3]]]"
   ]
  },
  {
   "cell_type": "code",
   "execution_count": null,
   "id": "executive-powell",
   "metadata": {},
   "outputs": [],
   "source": [
    "len(dest_ports[' Destination IP'].unique())"
   ]
  },
  {
   "cell_type": "code",
   "execution_count": null,
   "id": "stock-colombia",
   "metadata": {},
   "outputs": [],
   "source": [
    "dest_ports.loc[np.where(labels_np=='BENIGN')[0]]"
   ]
  },
  {
   "cell_type": "code",
   "execution_count": null,
   "id": "selected-reputation",
   "metadata": {},
   "outputs": [],
   "source": [
    "dest_ports.loc[np.where(labels_np=='DDoS')[0]][' Destination IP'].unique()"
   ]
  },
  {
   "cell_type": "markdown",
   "id": "recent-pavilion",
   "metadata": {},
   "source": [
    "## Classification on sanitized data"
   ]
  },
  {
   "cell_type": "code",
   "execution_count": null,
   "id": "compressed-kennedy",
   "metadata": {},
   "outputs": [],
   "source": [
    "def data_cleanup(X,y):\n",
    "    inf_indices=np.where(X==np.inf)\n",
    "    nan_indices=np.where(X!=X)\n",
    "    mask = np.ones(len(X), dtype=bool)\n",
    "    mask[np.union1d(inf_indices[0],nan_indices[0])] = False\n",
    "    X_mod=X[mask,:]\n",
    "    y_mod=y[mask]\n",
    "    return X_mod,y_mod"
   ]
  },
  {
   "cell_type": "markdown",
   "id": "excessive-reasoning",
   "metadata": {},
   "source": [
    "### Load and clean data"
   ]
  },
  {
   "cell_type": "code",
   "execution_count": 16,
   "id": "fantastic-tsunami",
   "metadata": {},
   "outputs": [],
   "source": [
    "Friday_san=pd.read_csv('../data/CIC-IDS-2017/MachineLearningCVE/Friday-WorkingHours-Afternoon-DDos.pcap_ISCX.csv',delimiter=',')"
   ]
  },
  {
   "cell_type": "code",
   "execution_count": 17,
   "id": "reserved-tackle",
   "metadata": {},
   "outputs": [
    {
     "data": {
      "text/plain": [
       "225745"
      ]
     },
     "execution_count": 17,
     "metadata": {},
     "output_type": "execute_result"
    }
   ],
   "source": [
    "len(Friday_san)"
   ]
  },
  {
   "cell_type": "code",
   "execution_count": null,
   "id": "intelligent-courtesy",
   "metadata": {},
   "outputs": [],
   "source": [
    "train_split=0.8"
   ]
  },
  {
   "cell_type": "code",
   "execution_count": null,
   "id": "waiting-brown",
   "metadata": {},
   "outputs": [],
   "source": [
    "Friday_san_np=Friday_san.to_numpy()\n",
    "Friday_san_np_perm=Friday_san_np[np.random.permutation(len(Friday_san_np))]\n",
    "\n",
    "# Removing port from features\n",
    "X=Friday_san_np_perm[:,1:-2]\n",
    "y=Friday_san_np_perm[:,-1]\n",
    "\n",
    "y_mod=np.zeros(len(y))\n",
    "y_mod[np.where(y=='DDoS')]=1"
   ]
  },
  {
   "cell_type": "code",
   "execution_count": null,
   "id": "fuzzy-store",
   "metadata": {},
   "outputs": [],
   "source": [
    "X_clean,y_clean=data_cleanup(X,y_mod)"
   ]
  },
  {
   "cell_type": "code",
   "execution_count": null,
   "id": "conditional-pennsylvania",
   "metadata": {},
   "outputs": [],
   "source": [
    "train_len=int(train_split*len(X_train_clean))\n",
    "# Splitting into train and test\n",
    "X_train=X_clean[:train_len]\n",
    "X_test=X_clean[train_len:]\n",
    "\n",
    "y_train=y_clean[:train_len]\n",
    "y_test=y_clean[train_len:]"
   ]
  },
  {
   "cell_type": "markdown",
   "id": "corresponding-gothic",
   "metadata": {},
   "source": [
    "### Classification"
   ]
  },
  {
   "cell_type": "code",
   "execution_count": null,
   "id": "indirect-excitement",
   "metadata": {},
   "outputs": [],
   "source": [
    "from sklearn.ensemble import RandomForestClassifier\n",
    "\n",
    "clf = RandomForestClassifier(max_depth=3, random_state=0)\n",
    "clf.fit(X_train, y_train)"
   ]
  },
  {
   "cell_type": "code",
   "execution_count": null,
   "id": "copyrighted-disney",
   "metadata": {},
   "outputs": [],
   "source": [
    "y_test_predict=clf.predict(X_test)"
   ]
  },
  {
   "cell_type": "code",
   "execution_count": null,
   "id": "atomic-kitty",
   "metadata": {},
   "outputs": [],
   "source": [
    "count_correct=0.0\n",
    "for i in range(len(X_test)):\n",
    "    if y_test_predict[i]==y_test[i]:\n",
    "        count_correct+=1\n",
    "print(count_correct/len(X_test))"
   ]
  }
 ],
 "metadata": {
  "kernelspec": {
   "display_name": "Python 3",
   "language": "python",
   "name": "python3"
  },
  "language_info": {
   "codemirror_mode": {
    "name": "ipython",
    "version": 3
   },
   "file_extension": ".py",
   "mimetype": "text/x-python",
   "name": "python",
   "nbconvert_exporter": "python",
   "pygments_lexer": "ipython3",
   "version": "3.8.2"
  }
 },
 "nbformat": 4,
 "nbformat_minor": 5
}
